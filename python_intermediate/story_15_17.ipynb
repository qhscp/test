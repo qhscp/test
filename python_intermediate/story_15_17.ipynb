{
  "cells": [
    {
      "cell_type": "markdown",
      "metadata": {
        "id": "Ty2_-HeytkPM"
      },
      "source": [
        "## Story 15. 함수 호출과 매개변수 선언에 있어서 `*`와 `**`의 사용 규칙"
      ]
    },
    {
      "cell_type": "markdown",
      "metadata": {
        "id": "9sNS8AjOtkPT"
      },
      "source": [
        "### iterable 객체와 매개변수"
      ]
    },
    {
      "cell_type": "markdown",
      "metadata": {
        "id": "rBZI5Vg1tkPU"
      },
      "source": [
        "* `func(*iterable)` - `iterable` 객체(리스트, 튜플, 문자열)를 전달하면서 `*`를 붙여서 함수 호출할 때\n",
        "* `func(**dict)` - `dict` 객체(딕셔너리)를 전달하면서 `**`을 붙여서 함수 호출할 때\n",
        "\n",
        "\n",
        "* `def func(*args)` - 함수를 정의하면서 매개변수 `args`에 `*` 붙일 때\n",
        "* `def func(**kwargs)` - 함수를 정의하면서 매개변수 `kwargs`에 `**` 붙일 때"
      ]
    },
    {
      "cell_type": "code",
      "execution_count": 1,
      "metadata": {
        "id": "qPkRjFCbtkPW"
      },
      "outputs": [],
      "source": [
        "def who(a, b, c):\n",
        "    print(a, b, c, sep=', ')"
      ]
    },
    {
      "cell_type": "code",
      "execution_count": 2,
      "metadata": {
        "id": "cImx7nLhtkPZ",
        "outputId": "4e7f4e2a-c9be-490e-89a7-9cb4812e2b5c",
        "colab": {
          "base_uri": "https://localhost:8080/"
        }
      },
      "outputs": [
        {
          "output_type": "stream",
          "name": "stdout",
          "text": [
            "1, 2, 3\n"
          ]
        }
      ],
      "source": [
        "who(*[1, 2, 3])"
      ]
    },
    {
      "cell_type": "code",
      "execution_count": 3,
      "metadata": {
        "id": "Y7AtSIEVtkPZ",
        "outputId": "2d1397c0-2671-43e6-ac22-c68fc21176c5",
        "colab": {
          "base_uri": "https://localhost:8080/"
        }
      },
      "outputs": [
        {
          "output_type": "stream",
          "name": "stdout",
          "text": [
            "0.1, 0.2, 0.3\n"
          ]
        }
      ],
      "source": [
        "who(*(0.1, 0.2, 0.3))"
      ]
    },
    {
      "cell_type": "code",
      "execution_count": 4,
      "metadata": {
        "id": "PX5DsXhztkPa",
        "outputId": "7663ba59-348b-47a8-a808-635d5cf54c0d",
        "colab": {
          "base_uri": "https://localhost:8080/"
        }
      },
      "outputs": [
        {
          "output_type": "stream",
          "name": "stdout",
          "text": [
            "a, b, c\n"
          ]
        }
      ],
      "source": [
        "who(*'abc')"
      ]
    },
    {
      "cell_type": "code",
      "execution_count": 5,
      "metadata": {
        "id": "ujF1G9_HtkPb",
        "outputId": "ab8d8d06-61db-4b54-e126-fc7c4b489664",
        "colab": {
          "base_uri": "https://localhost:8080/"
        }
      },
      "outputs": [
        {
          "output_type": "stream",
          "name": "stdout",
          "text": [
            "a, b, c\n"
          ]
        }
      ],
      "source": [
        "d = dict(a = 1, b = 2, c = 3)\n",
        "who(*d)"
      ]
    },
    {
      "cell_type": "code",
      "execution_count": 6,
      "metadata": {
        "id": "15h5cvActkPd",
        "outputId": "2e4e792c-7a32-4cc5-9b6b-52842cf2c055",
        "colab": {
          "base_uri": "https://localhost:8080/"
        }
      },
      "outputs": [
        {
          "output_type": "stream",
          "name": "stdout",
          "text": [
            "1, 2, 3\n"
          ]
        }
      ],
      "source": [
        "who(**d)"
      ]
    },
    {
      "cell_type": "code",
      "execution_count": 7,
      "metadata": {
        "id": "ZkRC7aottkPe",
        "outputId": "85294051-08a6-4eba-d649-3ba3da8d4c41",
        "colab": {
          "base_uri": "https://localhost:8080/"
        }
      },
      "outputs": [
        {
          "output_type": "stream",
          "name": "stdout",
          "text": [
            "('a', 1), ('b', 2), ('c', 3)\n"
          ]
        }
      ],
      "source": [
        "who(*(d.items()))"
      ]
    },
    {
      "cell_type": "markdown",
      "metadata": {
        "id": "O1K_-25jtkPf"
      },
      "source": [
        "### 딕셔너리와 매개변수"
      ]
    },
    {
      "cell_type": "code",
      "execution_count": 8,
      "metadata": {
        "id": "h6tSzNfPtkPf"
      },
      "outputs": [],
      "source": [
        "def func(*args):\n",
        "    print(args)  # args는 튜플"
      ]
    },
    {
      "cell_type": "code",
      "execution_count": 9,
      "metadata": {
        "id": "KQQs17BatkPg",
        "outputId": "f807efd4-e352-4022-f5b9-f2327d2db724",
        "colab": {
          "base_uri": "https://localhost:8080/"
        }
      },
      "outputs": [
        {
          "output_type": "stream",
          "name": "stdout",
          "text": [
            "()\n"
          ]
        }
      ],
      "source": [
        "func()"
      ]
    },
    {
      "cell_type": "code",
      "execution_count": 10,
      "metadata": {
        "id": "MRxSMqd_tkPh",
        "outputId": "6a37c249-c130-4670-e0fc-4ca0ddd2c37f",
        "colab": {
          "base_uri": "https://localhost:8080/"
        }
      },
      "outputs": [
        {
          "output_type": "stream",
          "name": "stdout",
          "text": [
            "(1,)\n"
          ]
        }
      ],
      "source": [
        "func(1)"
      ]
    },
    {
      "cell_type": "code",
      "execution_count": 11,
      "metadata": {
        "id": "HP8GHkYOtkPh",
        "outputId": "71b3bbaf-bda9-4db6-f357-78003333f453",
        "colab": {
          "base_uri": "https://localhost:8080/"
        }
      },
      "outputs": [
        {
          "output_type": "stream",
          "name": "stdout",
          "text": [
            "(1, 2)\n"
          ]
        }
      ],
      "source": [
        "func(1, 2)"
      ]
    },
    {
      "cell_type": "code",
      "execution_count": 14,
      "metadata": {
        "id": "0Z9rySzVtkPi",
        "outputId": "75896261-5813-44dc-acf6-86b125a617cb",
        "colab": {
          "base_uri": "https://localhost:8080/",
          "height": 174
        }
      },
      "outputs": [
        {
          "output_type": "error",
          "ename": "TypeError",
          "evalue": "ignored",
          "traceback": [
            "\u001b[0;31m---------------------------------------------------------------------------\u001b[0m",
            "\u001b[0;31mTypeError\u001b[0m                                 Traceback (most recent call last)",
            "\u001b[0;32m<ipython-input-14-0b0e6d51b54e>\u001b[0m in \u001b[0;36m<module>\u001b[0;34m()\u001b[0m\n\u001b[0;32m----> 1\u001b[0;31m \u001b[0mfunc\u001b[0m\u001b[0;34m(\u001b[0m\u001b[0;36m1\u001b[0m\u001b[0;34m,\u001b[0m \u001b[0;36m2\u001b[0m\u001b[0;34m,\u001b[0m \u001b[0;36m3\u001b[0m\u001b[0;34m)\u001b[0m\u001b[0;34m\u001b[0m\u001b[0;34m\u001b[0m\u001b[0m\n\u001b[0m",
            "\u001b[0;31mTypeError\u001b[0m: func() takes 0 positional arguments but 3 were given"
          ]
        }
      ],
      "source": [
        "func(1, 2, 3)"
      ]
    },
    {
      "cell_type": "code",
      "execution_count": 12,
      "metadata": {
        "id": "WoVmP1eVtkPi"
      },
      "outputs": [],
      "source": [
        "def func(**kwargs):\n",
        "    print(kwargs)  # kwargs는 딕셔너리"
      ]
    },
    {
      "cell_type": "code",
      "execution_count": 15,
      "metadata": {
        "id": "qrHlY3ZitkPj",
        "outputId": "be6ececc-e33b-402a-ee83-871f827f94f8",
        "colab": {
          "base_uri": "https://localhost:8080/"
        }
      },
      "outputs": [
        {
          "output_type": "stream",
          "name": "stdout",
          "text": [
            "{'a': 1}\n"
          ]
        }
      ],
      "source": [
        "func(a=1)"
      ]
    },
    {
      "cell_type": "code",
      "execution_count": 16,
      "metadata": {
        "id": "T353McMHtkPj",
        "outputId": "41535dc7-abdb-49b9-8f0e-438611b08c4a",
        "colab": {
          "base_uri": "https://localhost:8080/"
        }
      },
      "outputs": [
        {
          "output_type": "stream",
          "name": "stdout",
          "text": [
            "{'a': 1, 'b': 2}\n"
          ]
        }
      ],
      "source": [
        "func(a=1, b=2)"
      ]
    },
    {
      "cell_type": "code",
      "execution_count": 19,
      "metadata": {
        "id": "96YKDonPtkPk",
        "outputId": "6a3cb3dd-38ce-4a1f-ce76-c1cd8053f989",
        "colab": {
          "base_uri": "https://localhost:8080/"
        }
      },
      "outputs": [
        {
          "output_type": "stream",
          "name": "stdout",
          "text": [
            "()\n",
            "{'a': 1, 'b': 2, 'c': 3}\n"
          ]
        }
      ],
      "source": [
        "func(a=1, b=2, c=3)"
      ]
    },
    {
      "cell_type": "code",
      "execution_count": 20,
      "metadata": {
        "id": "WsqeDRIStkPk"
      },
      "outputs": [],
      "source": [
        "def func(*args, **kwargs):\n",
        "    print(args)\n",
        "    print(kwargs)"
      ]
    },
    {
      "cell_type": "code",
      "execution_count": 21,
      "metadata": {
        "id": "s6JTDquFtkPl",
        "outputId": "5be1adaf-4c26-46e9-f367-ea191a4b510a",
        "colab": {
          "base_uri": "https://localhost:8080/"
        }
      },
      "outputs": [
        {
          "output_type": "stream",
          "name": "stdout",
          "text": [
            "()\n",
            "{}\n"
          ]
        }
      ],
      "source": [
        "func()"
      ]
    },
    {
      "cell_type": "code",
      "execution_count": 22,
      "metadata": {
        "id": "X1Idfjf_tkPm",
        "outputId": "0a2b3d2a-b140-4c2b-f347-fb24b357fc57",
        "colab": {
          "base_uri": "https://localhost:8080/"
        }
      },
      "outputs": [
        {
          "output_type": "stream",
          "name": "stdout",
          "text": [
            "(1,)\n",
            "{'a': 1}\n"
          ]
        }
      ],
      "source": [
        "func(1, a=1)"
      ]
    },
    {
      "cell_type": "code",
      "execution_count": 23,
      "metadata": {
        "id": "Z2dKwf3ltkPn",
        "outputId": "80cb6bdc-87db-46a2-be14-4a23c70344cf",
        "colab": {
          "base_uri": "https://localhost:8080/"
        }
      },
      "outputs": [
        {
          "output_type": "stream",
          "name": "stdout",
          "text": [
            "(1, 2)\n",
            "{'a': 1, 'b': 2}\n"
          ]
        }
      ],
      "source": [
        "func(1, 2, a=1, b=2)"
      ]
    },
    {
      "cell_type": "markdown",
      "metadata": {
        "id": "ra6B0-7UtkPn"
      },
      "source": [
        "## Story 16. `dict` & `defaultdict`"
      ]
    },
    {
      "cell_type": "markdown",
      "metadata": {
        "id": "_GRZV-wZtkPo"
      },
      "source": [
        "### 키가 존재할 때와 존재하지 않을 때"
      ]
    },
    {
      "cell_type": "code",
      "execution_count": 26,
      "metadata": {
        "id": "emjkqKtRtkPo",
        "outputId": "c7b25d9c-3b1a-49eb-a7c4-74d831fa8bf2",
        "colab": {
          "base_uri": "https://localhost:8080/"
        }
      },
      "outputs": [
        {
          "output_type": "execute_result",
          "data": {
            "text/plain": [
              "{'blue': 4, 'red': 1, 'white': 2}"
            ]
          },
          "metadata": {},
          "execution_count": 26
        }
      ],
      "source": [
        "d = {'red': 3, 'white': 2, 'blue': 4} \n",
        "d['red'] = 1\n",
        "d"
      ]
    },
    {
      "cell_type": "code",
      "execution_count": 27,
      "metadata": {
        "id": "Lqm6yDa9tkPr",
        "outputId": "7f3ac483-06ac-4009-9e0a-2791a6493d89",
        "colab": {
          "base_uri": "https://localhost:8080/"
        }
      },
      "outputs": [
        {
          "output_type": "execute_result",
          "data": {
            "text/plain": [
              "{'black': 5, 'blue': 4, 'red': 1, 'white': 2}"
            ]
          },
          "metadata": {},
          "execution_count": 27
        }
      ],
      "source": [
        "d['black'] = 5  ## asign 했는데 없으면 새로 추가하는거임\n",
        "d"
      ]
    },
    {
      "cell_type": "code",
      "execution_count": 29,
      "metadata": {
        "id": "j7S70-cBtkPs",
        "outputId": "a671e7cb-60c3-4837-c2e2-f048c40dfd44",
        "colab": {
          "base_uri": "https://localhost:8080/"
        }
      },
      "outputs": [
        {
          "output_type": "execute_result",
          "data": {
            "text/plain": [
              "{'black': 5, 'blue': 4, 'red': 3, 'white': 2}"
            ]
          },
          "metadata": {},
          "execution_count": 29
        }
      ],
      "source": [
        "d['red'] += 1\n",
        "d"
      ]
    },
    {
      "cell_type": "code",
      "execution_count": 30,
      "metadata": {
        "id": "5xgrR8zjtkPs",
        "outputId": "4a57da9c-a66d-4400-c3d8-519472acb4d4",
        "colab": {
          "base_uri": "https://localhost:8080/",
          "height": 174
        }
      },
      "outputs": [
        {
          "output_type": "error",
          "ename": "KeyError",
          "evalue": "ignored",
          "traceback": [
            "\u001b[0;31m---------------------------------------------------------------------------\u001b[0m",
            "\u001b[0;31mKeyError\u001b[0m                                  Traceback (most recent call last)",
            "\u001b[0;32m<ipython-input-30-472c446bdcaf>\u001b[0m in \u001b[0;36m<module>\u001b[0;34m()\u001b[0m\n\u001b[0;32m----> 1\u001b[0;31m \u001b[0md\u001b[0m\u001b[0;34m[\u001b[0m\u001b[0;34m'green'\u001b[0m\u001b[0;34m]\u001b[0m \u001b[0;34m+=\u001b[0m \u001b[0;36m1\u001b[0m\u001b[0;34m\u001b[0m\u001b[0;34m\u001b[0m\u001b[0m\n\u001b[0m",
            "\u001b[0;31mKeyError\u001b[0m: 'green'"
          ]
        }
      ],
      "source": [
        "d['green'] += 1 ##애초에 없는애한테 더하라고 하니 오류가 나옴"
      ]
    },
    {
      "cell_type": "code",
      "execution_count": 31,
      "metadata": {
        "id": "acTv0ymqtkPs",
        "outputId": "9788ad48-06fa-4c7f-f6f3-c54edeb81b92",
        "colab": {
          "base_uri": "https://localhost:8080/"
        }
      },
      "outputs": [
        {
          "output_type": "execute_result",
          "data": {
            "text/plain": [
              "{'b': 2, 'o': 2, 'r': 1, 't': 1}"
            ]
          },
          "metadata": {},
          "execution_count": 31
        }
      ],
      "source": [
        "s = 'robbot'\n",
        "d = {}\n",
        "\n",
        "for k in s:\n",
        "    if k in d:\n",
        "        d[k] += 1  ## r,o,b가 1개 세어졌을때는 1이지만 두번째 부터는 d안에 있는거니까 +1이 되어 아래와 같은 결론이 남\n",
        "    else:\n",
        "        d[k] = 1\n",
        "        \n",
        "d"
      ]
    },
    {
      "cell_type": "markdown",
      "metadata": {
        "id": "BegfEg1WtkPt"
      },
      "source": [
        "### `setdefault` 메소드"
      ]
    },
    {
      "cell_type": "code",
      "execution_count": null,
      "metadata": {
        "id": "idwULf7rtkPt"
      },
      "outputs": [],
      "source": [
        "d = {}\n",
        "for k in s:\n",
        "    d[k] = d.setdefault(k, 0) + 1 #k가 d에 없으면 value 지정후 +1, 없으면 0\n",
        "    \n",
        "d"
      ]
    },
    {
      "cell_type": "markdown",
      "metadata": {
        "id": "NFqBFPwDtkPt"
      },
      "source": [
        "### `defaultdict`"
      ]
    },
    {
      "cell_type": "code",
      "execution_count": 32,
      "metadata": {
        "id": "_d4FQjLDtkPu",
        "outputId": "6dea501d-b570-4835-d320-105a6d5d76d5",
        "colab": {
          "base_uri": "https://localhost:8080/"
        }
      },
      "outputs": [
        {
          "output_type": "execute_result",
          "data": {
            "text/plain": [
              "defaultdict(int, {'b': 2, 'o': 2, 'r': 1, 't': 1})"
            ]
          },
          "metadata": {},
          "execution_count": 32
        }
      ],
      "source": [
        "from collections import defaultdict\n",
        "\n",
        "d = defaultdict(int)  # int 함수를 등록하면서 defaultdict 호출\n",
        "for k in s:\n",
        "    d[k] += 1\n",
        "    \n",
        "d"
      ]
    },
    {
      "cell_type": "code",
      "execution_count": 33,
      "metadata": {
        "id": "ZagCCvJftkPu",
        "outputId": "c1af1269-ea78-4a27-d1f6-e96923ef053f",
        "colab": {
          "base_uri": "https://localhost:8080/"
        }
      },
      "outputs": [
        {
          "output_type": "execute_result",
          "data": {
            "text/plain": [
              "35"
            ]
          },
          "metadata": {},
          "execution_count": 33
        }
      ],
      "source": [
        "n1 = int('35')\n",
        "n1"
      ]
    },
    {
      "cell_type": "code",
      "execution_count": 34,
      "metadata": {
        "id": "KPvRXLeytkPu",
        "outputId": "31391949-63a8-4563-8d92-a5ac30ccf395",
        "colab": {
          "base_uri": "https://localhost:8080/"
        }
      },
      "outputs": [
        {
          "output_type": "execute_result",
          "data": {
            "text/plain": [
              "0"
            ]
          },
          "metadata": {},
          "execution_count": 34
        }
      ],
      "source": [
        "n2 = int()\n",
        "n2"
      ]
    },
    {
      "cell_type": "code",
      "execution_count": 35,
      "metadata": {
        "id": "il22QGhytkPv",
        "outputId": "13a44662-39c8-4465-c6c7-bcf90ad8a830",
        "colab": {
          "base_uri": "https://localhost:8080/"
        }
      },
      "outputs": [
        {
          "output_type": "execute_result",
          "data": {
            "text/plain": [
              "0"
            ]
          },
          "metadata": {},
          "execution_count": 35
        }
      ],
      "source": [
        "def let_zero():\n",
        "    return 0\n",
        "\n",
        "d = defaultdict(let_zero)\n",
        "d['a']"
      ]
    },
    {
      "cell_type": "code",
      "execution_count": null,
      "metadata": {
        "id": "Mul5Nt5RtkPv"
      },
      "outputs": [],
      "source": [
        "d"
      ]
    },
    {
      "cell_type": "code",
      "execution_count": null,
      "metadata": {
        "id": "CTDGBU8qtkPv"
      },
      "outputs": [],
      "source": [
        "d = defaultdict(lambda: 7)\n",
        "d['z']"
      ]
    },
    {
      "cell_type": "code",
      "execution_count": null,
      "metadata": {
        "id": "N_R2HDoCtkPw"
      },
      "outputs": [],
      "source": [
        "d"
      ]
    },
    {
      "cell_type": "markdown",
      "metadata": {
        "id": "c6XOsaA4tkPw"
      },
      "source": [
        "## Story 17. `dict` & `OrderedDict`"
      ]
    },
    {
      "cell_type": "markdown",
      "metadata": {
        "id": "iC-2cb0etkPw"
      },
      "source": [
        "### `dict`은 저장 순서를 유지하기 시작했다 (3.7 버전부터)"
      ]
    },
    {
      "cell_type": "code",
      "execution_count": null,
      "metadata": {
        "id": "TRpsK1pVtkPw"
      },
      "outputs": [],
      "source": [
        "d = {}\n",
        "d['a'] = 1\n",
        "d['b'] = 2\n",
        "d['c'] = 3\n",
        "d"
      ]
    },
    {
      "cell_type": "code",
      "execution_count": null,
      "metadata": {
        "id": "qMzu_n6ctkPx"
      },
      "outputs": [],
      "source": [
        "for kv in d.items():\n",
        "    print(kv)"
      ]
    },
    {
      "cell_type": "code",
      "execution_count": null,
      "metadata": {
        "id": "1VXl4EJ9tkPx"
      },
      "outputs": [],
      "source": [
        "from collections import OrderedDict\n",
        "\n",
        "od = OrderedDict()   # OrderedDict 객체 생성\n",
        "\n",
        "od['a'] = 1\n",
        "od['b'] = 2\n",
        "od['c'] = 3\n",
        "od"
      ]
    },
    {
      "cell_type": "code",
      "execution_count": null,
      "metadata": {
        "id": "CM4_d4m4tkPx"
      },
      "outputs": [],
      "source": [
        "for kv in od.items():\n",
        "    print(kv)"
      ]
    },
    {
      "cell_type": "markdown",
      "metadata": {
        "id": "eitTA20GtkPx"
      },
      "source": [
        "### 그래도 `OrderedDict`을 써야 할 이유가 있다면?"
      ]
    },
    {
      "cell_type": "code",
      "execution_count": null,
      "metadata": {
        "id": "EUzwRrGLtkPy"
      },
      "outputs": [],
      "source": [
        "d1 = dict(a = 1, b = 2, c = 3)\n",
        "d2 = dict(c = 3, a = 1, b = 2)\n",
        "d1"
      ]
    },
    {
      "cell_type": "code",
      "execution_count": null,
      "metadata": {
        "id": "RBaohA58tkPy"
      },
      "outputs": [],
      "source": [
        "d2"
      ]
    },
    {
      "cell_type": "code",
      "execution_count": null,
      "metadata": {
        "id": "ajVZ7dijtkPy"
      },
      "outputs": [],
      "source": [
        "d1 == d2  # d1, d2는 저장 순서는 다르고 내용물은 같다"
      ]
    },
    {
      "cell_type": "code",
      "execution_count": null,
      "metadata": {
        "id": "gLogFYektkPy"
      },
      "outputs": [],
      "source": [
        "od1 = OrderedDict(a = 1, b = 2, c = 3)\n",
        "od2 = OrderedDict(c = 3, a = 1, b = 2)\n",
        "od1"
      ]
    },
    {
      "cell_type": "code",
      "execution_count": null,
      "metadata": {
        "id": "n_yX7LQxtkPz"
      },
      "outputs": [],
      "source": [
        "od2"
      ]
    },
    {
      "cell_type": "code",
      "execution_count": null,
      "metadata": {
        "id": "xNjpzC6CtkPz"
      },
      "outputs": [],
      "source": [
        "od1 == od2"
      ]
    },
    {
      "cell_type": "code",
      "execution_count": null,
      "metadata": {
        "id": "b9QDBkR5tkPz"
      },
      "outputs": [],
      "source": [
        "for kv in od1.items():\n",
        "    print(kv, end=', ')"
      ]
    },
    {
      "cell_type": "code",
      "execution_count": null,
      "metadata": {
        "id": "GZGGlYBatkP0"
      },
      "outputs": [],
      "source": [
        "od1.move_to_end('b')\n",
        "\n",
        "for kv in od1.items():\n",
        "    print(kv, end=', ')"
      ]
    },
    {
      "cell_type": "code",
      "execution_count": null,
      "metadata": {
        "id": "qw1Dz3q1tkP0"
      },
      "outputs": [],
      "source": [
        "od1.move_to_end('b', last=False)\n",
        "\n",
        "for kv in od1.items():\n",
        "    print(kv, end=', ')"
      ]
    }
  ],
  "metadata": {
    "celltoolbar": "Slideshow",
    "kernelspec": {
      "display_name": "Python 3 (ipykernel)",
      "language": "python",
      "name": "python3"
    },
    "language_info": {
      "codemirror_mode": {
        "name": "ipython",
        "version": 3
      },
      "file_extension": ".py",
      "mimetype": "text/x-python",
      "name": "python",
      "nbconvert_exporter": "python",
      "pygments_lexer": "ipython3",
      "version": "3.8.12"
    },
    "colab": {
      "name": "story_15_17.ipynb",
      "provenance": []
    }
  },
  "nbformat": 4,
  "nbformat_minor": 0
}