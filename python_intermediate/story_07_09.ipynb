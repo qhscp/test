{
  "cells": [
    {
      "cell_type": "markdown",
      "metadata": {
        "id": "HVv6VDnz4CoX"
      },
      "source": [
        "## Story 07. `map` & `filter` "
      ]
    },
    {
      "cell_type": "markdown",
      "metadata": {
        "id": "Hi-e2gpc4Cob"
      },
      "source": [
        "### `map`"
      ]
    },
    {
      "cell_type": "code",
      "execution_count": null,
      "metadata": {
        "id": "Cw2PoXQ74Coc"
      },
      "outputs": [],
      "source": [
        "def pow(n):\n",
        "    return n ** 2\n",
        "\n",
        "st1 = [1, 2, 3]"
      ]
    },
    {
      "cell_type": "code",
      "execution_count": null,
      "metadata": {
        "id": "fFM8HinX4Cog"
      },
      "outputs": [],
      "source": [
        "st2 = [pow(st1[0]), pow(st1[1]), pow(st1[2])]\n",
        "st2"
      ]
    },
    {
      "cell_type": "code",
      "execution_count": null,
      "metadata": {
        "id": "_lBwhy_-4Coh"
      },
      "outputs": [],
      "source": [
        "st2 = list(map(pow, st1))\n",
        "st2 "
      ]
    },
    {
      "cell_type": "code",
      "execution_count": null,
      "metadata": {
        "id": "0fKlBtxJ4Coh"
      },
      "outputs": [],
      "source": [
        "ir = map(pow, st1)  # ir은 iterable 객체\n",
        "for i in ir:\n",
        "    print(i, end=' ')"
      ]
    },
    {
      "cell_type": "code",
      "execution_count": null,
      "metadata": {
        "id": "_zkY-l8V4Coi"
      },
      "outputs": [],
      "source": [
        "def dbl(e):\n",
        "    return e * 2"
      ]
    },
    {
      "cell_type": "code",
      "execution_count": null,
      "metadata": {
        "id": "Nip4yHTc4Coj"
      },
      "outputs": [],
      "source": [
        "list(map(dbl, (1, 3, 4)))"
      ]
    },
    {
      "cell_type": "code",
      "execution_count": null,
      "metadata": {
        "id": "SOx3rfcX4Col"
      },
      "outputs": [],
      "source": [
        "list(map(dbl, 'hello'))"
      ]
    },
    {
      "cell_type": "code",
      "execution_count": null,
      "metadata": {
        "id": "4rEoK55j4Com"
      },
      "outputs": [],
      "source": [
        "def sum(n1, n2):\n",
        "    return n1 + n2"
      ]
    },
    {
      "cell_type": "code",
      "execution_count": null,
      "metadata": {
        "id": "xCgQwTyZ4Con"
      },
      "outputs": [],
      "source": [
        "st1 = [1, 2, 3]\n",
        "st2 = [3, 2, 1]"
      ]
    },
    {
      "cell_type": "code",
      "execution_count": null,
      "metadata": {
        "id": "usj0CD4y4Coo"
      },
      "outputs": [],
      "source": [
        "st3 = list(map(sum, st1, st2))\n",
        "st3"
      ]
    },
    {
      "cell_type": "markdown",
      "metadata": {
        "id": "RfKFAQvI4Coo"
      },
      "source": [
        "### `map`과 람다"
      ]
    },
    {
      "cell_type": "code",
      "execution_count": null,
      "metadata": {
        "id": "8F_QNzJE4Cop"
      },
      "outputs": [],
      "source": [
        "st = list(range(1, 9))"
      ]
    },
    {
      "cell_type": "code",
      "execution_count": null,
      "metadata": {
        "id": "miGEUz1M4Coq"
      },
      "outputs": [],
      "source": [
        "st[:]"
      ]
    },
    {
      "cell_type": "code",
      "execution_count": null,
      "metadata": {
        "id": "A0oGuEG34Coq"
      },
      "outputs": [],
      "source": [
        "st[::1]"
      ]
    },
    {
      "cell_type": "code",
      "execution_count": null,
      "metadata": {
        "id": "MTaziMpf4Cor"
      },
      "outputs": [],
      "source": [
        "st[::2]"
      ]
    },
    {
      "cell_type": "code",
      "execution_count": null,
      "metadata": {
        "id": "VuGWMyFZ4Cos"
      },
      "outputs": [],
      "source": [
        "st[::3]"
      ]
    },
    {
      "cell_type": "code",
      "execution_count": null,
      "metadata": {
        "id": "JSXyUwoi4Cot"
      },
      "outputs": [],
      "source": [
        "st[::-1]"
      ]
    },
    {
      "cell_type": "code",
      "execution_count": null,
      "metadata": {
        "id": "FE1v9lyC4Cou"
      },
      "outputs": [],
      "source": [
        "s = 'hello'\n",
        "s[::-1]"
      ]
    },
    {
      "cell_type": "code",
      "execution_count": null,
      "metadata": {
        "id": "97s3LaAY4Cov"
      },
      "outputs": [],
      "source": [
        "def rev(s):\n",
        "    return s[::-1]"
      ]
    },
    {
      "cell_type": "code",
      "execution_count": null,
      "metadata": {
        "id": "wiaTjPdl4Cow"
      },
      "outputs": [],
      "source": [
        "st = ['one', 'two', 'three']\n",
        "rst = list(map(rev, st))\n",
        "rst"
      ]
    },
    {
      "cell_type": "code",
      "execution_count": null,
      "metadata": {
        "id": "iMEka6od4Cow"
      },
      "outputs": [],
      "source": [
        "rst = list(map(lambda s: s[::-1], st))\n",
        "rst"
      ]
    },
    {
      "cell_type": "markdown",
      "metadata": {
        "id": "IHeMvV2Q4Cox"
      },
      "source": [
        "### `filter` "
      ]
    },
    {
      "cell_type": "code",
      "execution_count": null,
      "metadata": {
        "id": "yE9WGRvR4Coy"
      },
      "outputs": [],
      "source": [
        "def is_odd(n):\n",
        "    return n % 2"
      ]
    },
    {
      "cell_type": "code",
      "execution_count": null,
      "metadata": {
        "id": "ZNe8ESlY4Coy"
      },
      "outputs": [],
      "source": [
        "st = [1, 2, 3, 4, 5]\n",
        "ost = list(filter(is_odd, st))\n",
        "ost"
      ]
    },
    {
      "cell_type": "code",
      "execution_count": null,
      "metadata": {
        "id": "OhBVZD3R4Coz"
      },
      "outputs": [],
      "source": [
        "ost = list(filter(lambda n: n % 2, st))\n",
        "ost"
      ]
    },
    {
      "cell_type": "code",
      "execution_count": null,
      "metadata": {
        "id": "8GvTZRS44Co0"
      },
      "outputs": [],
      "source": [
        "st = list(range(1, 11))\n",
        "fst = list(filter(lambda n: not(n % 3), st))\n",
        "fst"
      ]
    },
    {
      "cell_type": "code",
      "execution_count": null,
      "metadata": {
        "id": "cCQ3w6w-4Co1"
      },
      "outputs": [],
      "source": [
        "fst = list(filter(lambda n: not(n % 3), map(lambda n: n**2, st)))\n",
        "fst"
      ]
    },
    {
      "cell_type": "markdown",
      "metadata": {
        "id": "FP1WLjPt4Co2"
      },
      "source": [
        "## Story 08. 두 함수를 대신하는 리스트 컴프리헨션"
      ]
    },
    {
      "cell_type": "markdown",
      "metadata": {
        "id": "cZD8sxoJ4Co2"
      },
      "source": [
        "## `map`과 `filter`를 대신하는 리스트 컴프리헨션"
      ]
    },
    {
      "cell_type": "code",
      "execution_count": 1,
      "metadata": {
        "id": "7nCTQEu34Co2",
        "outputId": "017974ea-7bd6-4557-e15d-18c2666bdb68",
        "colab": {
          "base_uri": "https://localhost:8080/"
        }
      },
      "outputs": [
        {
          "output_type": "execute_result",
          "data": {
            "text/plain": [
              "[1, 4, 9]"
            ]
          },
          "metadata": {},
          "execution_count": 1
        }
      ],
      "source": [
        "st1 = [1, 2, 3]\n",
        "st2 = list(map(lambda n: n**2, st1))\n",
        "st2"
      ]
    },
    {
      "cell_type": "code",
      "execution_count": 2,
      "metadata": {
        "id": "1o3PmZGI4Co3",
        "outputId": "52158c64-b5eb-4849-d2a4-511d2b2737d4",
        "colab": {
          "base_uri": "https://localhost:8080/"
        }
      },
      "outputs": [
        {
          "output_type": "execute_result",
          "data": {
            "text/plain": [
              "[1, 4, 9]"
            ]
          },
          "metadata": {},
          "execution_count": 2
        }
      ],
      "source": [
        "st2 = [n**2 for n in st1]    ## for in을 사용한 리스트 컴프리헨션, 위에있는 map보다 더 효율적인 방법임\n",
        "st2"
      ]
    },
    {
      "cell_type": "code",
      "execution_count": 3,
      "metadata": {
        "id": "Xhn5gFXw4Co3",
        "outputId": "fe2348a8-d485-4cc9-ff70-dbe31314fb89",
        "colab": {
          "base_uri": "https://localhost:8080/"
        }
      },
      "outputs": [
        {
          "output_type": "execute_result",
          "data": {
            "text/plain": [
              "[1, 3, 5]"
            ]
          },
          "metadata": {},
          "execution_count": 3
        }
      ],
      "source": [
        "st = [1, 2, 3, 4, 5]\n",
        "ost = list(filter(lambda n: n % 2, st))    #홀수면 참 짝수면 거짓으로 구분하는 필터\n",
        "ost"
      ]
    },
    {
      "cell_type": "code",
      "execution_count": 4,
      "metadata": {
        "id": "muNbRHo84Co4",
        "outputId": "ef1c12b2-2d01-48df-b059-5935283ab6ef",
        "colab": {
          "base_uri": "https://localhost:8080/"
        }
      },
      "outputs": [
        {
          "output_type": "execute_result",
          "data": {
            "text/plain": [
              "[1, 3, 5]"
            ]
          },
          "metadata": {},
          "execution_count": 4
        }
      ],
      "source": [
        "ost = [n for n in st if n % 2]   ##위에있는 방식보단 이 방식이 더 효율적임\n",
        "ost"
      ]
    },
    {
      "cell_type": "code",
      "execution_count": 5,
      "metadata": {
        "id": "3uJpX7uL4Co4",
        "outputId": "388a545d-661d-41ad-d0c6-e9d0834df705",
        "colab": {
          "base_uri": "https://localhost:8080/"
        }
      },
      "outputs": [
        {
          "output_type": "execute_result",
          "data": {
            "text/plain": [
              "[1, 9, 25, 49, 81]"
            ]
          },
          "metadata": {},
          "execution_count": 5
        }
      ],
      "source": [
        "st = list(range(1, 11))\n",
        "fst = list(map(lambda n: n**2, filter(lambda n: n % 2, st)))      ##(1,3,5,7,9를 끄집어내서 제곱)\n",
        "fst"
      ]
    },
    {
      "cell_type": "code",
      "execution_count": null,
      "metadata": {
        "id": "y6bZmtYm4Co5"
      },
      "outputs": [],
      "source": [
        "fst = [n**2 for n in st if n % 2]                 ##위에있는 방식보단 이 방식이 더 효율적임    뒤에있는 방식을 보고 위에 과정도 떠올릴 수 있어야 한다.\n",
        "fst"
      ]
    },
    {
      "cell_type": "markdown",
      "metadata": {
        "id": "9L1tkxZc4Co5"
      },
      "source": [
        "## Story 09. 제너레이터 함수"
      ]
    },
    {
      "cell_type": "markdown",
      "metadata": {
        "id": "Ra0dH4K04Co5"
      },
      "source": [
        "### 제너레이터에 대한 이해와 제너레이터 함수"
      ]
    },
    {
      "cell_type": "markdown",
      "metadata": {
        "id": "mHAv_LGW4Co6"
      },
      "source": [
        "* 제너레이터 함수: 제너레이터를 만들기 위한 함수\n",
        "\n",
        "* 제너레이터 표현식: 제너레이터를 만들기 위한 식"
      ]
    },
    {
      "cell_type": "code",
      "execution_count": 7,
      "metadata": {
        "id": "KyVCnyiS4Co6"
      },
      "outputs": [],
      "source": [
        "def gen_num():    # 제너레이터 함수의 정의  yield1만 실행하고 종료, 더 진행하고 싶으면 next를 해줘야하고 그럼 yield2까지 실행하고 종료\n",
        "    print('first number')\n",
        "    yield 1\n",
        "    print('second number')\n",
        "    yield 2\n",
        "    print('third number')\n",
        "    yield 3\n",
        "    \n",
        "gen = gen_num()   # 제너레이터 객체 생성 "
      ]
    },
    {
      "cell_type": "code",
      "execution_count": 8,
      "metadata": {
        "id": "JKjq2z2L4Co6",
        "outputId": "f3307bf1-95b1-4962-f660-e59d5be4c488",
        "colab": {
          "base_uri": "https://localhost:8080/"
        }
      },
      "outputs": [
        {
          "output_type": "stream",
          "name": "stdout",
          "text": [
            "<class 'generator'>\n"
          ]
        }
      ],
      "source": [
        "print(type(gen))"
      ]
    },
    {
      "cell_type": "code",
      "execution_count": 9,
      "metadata": {
        "id": "-z1Ji61E4Co6",
        "outputId": "24d65dc1-56f0-4a26-d3b4-e16d4a88c89e",
        "colab": {
          "base_uri": "https://localhost:8080/"
        }
      },
      "outputs": [
        {
          "output_type": "stream",
          "name": "stdout",
          "text": [
            "first number\n"
          ]
        },
        {
          "output_type": "execute_result",
          "data": {
            "text/plain": [
              "1"
            ]
          },
          "metadata": {},
          "execution_count": 9
        }
      ],
      "source": [
        "next(gen)"
      ]
    },
    {
      "cell_type": "code",
      "execution_count": 10,
      "metadata": {
        "id": "NO5JYrGW4Co6",
        "outputId": "057631a7-6320-4e8c-ee7c-cd0765f982fc",
        "colab": {
          "base_uri": "https://localhost:8080/"
        }
      },
      "outputs": [
        {
          "output_type": "stream",
          "name": "stdout",
          "text": [
            "second number\n"
          ]
        },
        {
          "output_type": "execute_result",
          "data": {
            "text/plain": [
              "2"
            ]
          },
          "metadata": {},
          "execution_count": 10
        }
      ],
      "source": [
        "next(gen)"
      ]
    },
    {
      "cell_type": "code",
      "execution_count": 11,
      "metadata": {
        "id": "iVnT_8wZ4Co7",
        "outputId": "895d3d8a-fea3-4319-8839-7f8fdbd473a2",
        "colab": {
          "base_uri": "https://localhost:8080/"
        }
      },
      "outputs": [
        {
          "output_type": "stream",
          "name": "stdout",
          "text": [
            "third number\n"
          ]
        },
        {
          "output_type": "execute_result",
          "data": {
            "text/plain": [
              "3"
            ]
          },
          "metadata": {},
          "execution_count": 11
        }
      ],
      "source": [
        "next(gen)"
      ]
    },
    {
      "cell_type": "code",
      "execution_count": 12,
      "metadata": {
        "id": "Olo5cnqh4Co7",
        "outputId": "9347ee3e-2eff-4cd6-a3ea-b596aca1826d",
        "colab": {
          "base_uri": "https://localhost:8080/",
          "height": 174
        }
      },
      "outputs": [
        {
          "output_type": "error",
          "ename": "StopIteration",
          "evalue": "ignored",
          "traceback": [
            "\u001b[0;31m---------------------------------------------------------------------------\u001b[0m",
            "\u001b[0;31mStopIteration\u001b[0m                             Traceback (most recent call last)",
            "\u001b[0;32m<ipython-input-12-6e72e47198db>\u001b[0m in \u001b[0;36m<module>\u001b[0;34m()\u001b[0m\n\u001b[0;32m----> 1\u001b[0;31m \u001b[0mnext\u001b[0m\u001b[0;34m(\u001b[0m\u001b[0mgen\u001b[0m\u001b[0;34m)\u001b[0m\u001b[0;34m\u001b[0m\u001b[0;34m\u001b[0m\u001b[0m\n\u001b[0m",
            "\u001b[0;31mStopIteration\u001b[0m: "
          ]
        }
      ],
      "source": [
        "next(gen)"
      ]
    },
    {
      "cell_type": "markdown",
      "metadata": {
        "id": "AO6ib6NW4Co7"
      },
      "source": [
        "### 제너레이터가 갖는 장점"
      ]
    },
    {
      "cell_type": "code",
      "execution_count": 13,
      "metadata": {
        "id": "CebEVTi54Co7"
      },
      "outputs": [],
      "source": [
        "def pows(s):\n",
        "    r = []\n",
        "    for i in s:\n",
        "        r.append(i**2)\n",
        "    return r"
      ]
    },
    {
      "cell_type": "code",
      "execution_count": 24,
      "metadata": {
        "id": "OSCmKTef4Co7",
        "outputId": "b43f09e3-2c1e-4c8c-c8fd-5193baca0b4a",
        "colab": {
          "base_uri": "https://localhost:8080/"
        }
      },
      "outputs": [
        {
          "output_type": "stream",
          "name": "stdout",
          "text": [
            "1 4 9 16 25 36 49 64 81 100 121 144 169 196 225 256 289 324 361 400 441 484 529 576 625 676 729 784 841 900 961 1024 1089 1156 1225 1296 1369 1444 1521 1600 1681 1764 1849 1936 2025 2116 2209 2304 2401 2500 2601 2704 2809 2916 3025 3136 3249 3364 3481 3600 3721 3844 3969 4096 4225 4356 4489 4624 4761 4900 5041 5184 5329 5476 5625 5776 5929 6084 6241 6400 6561 6724 6889 7056 7225 7396 7569 7744 7921 8100 8281 8464 8649 8836 9025 9216 9409 9604 9801 10000 "
          ]
        }
      ],
      "source": [
        "st = pows(range(1, 101))\n",
        "for i in st:\n",
        "    print(i, end=' ')"
      ]
    },
    {
      "cell_type": "code",
      "execution_count": 25,
      "metadata": {
        "id": "hoeZy9lW4Co7",
        "outputId": "15a36480-6d27-401a-f00f-f40d28999e83",
        "colab": {
          "base_uri": "https://localhost:8080/"
        }
      },
      "outputs": [
        {
          "output_type": "execute_result",
          "data": {
            "text/plain": [
              "920"
            ]
          },
          "metadata": {},
          "execution_count": 25
        }
      ],
      "source": [
        "import sys\n",
        "\n",
        "sys.getsizeof(st)  # 변수 st에 담긴 객체의 메모리 크기 정보 반환"
      ]
    },
    {
      "cell_type": "code",
      "execution_count": 16,
      "metadata": {
        "id": "XhT1Rbeh4Co8"
      },
      "outputs": [],
      "source": [
        "def gpows(s):   # 제너레이터 함수\n",
        "    for i in s:\n",
        "        yield i**2"
      ]
    },
    {
      "cell_type": "code",
      "execution_count": 26,
      "metadata": {
        "id": "Uz65IoCF4Co8",
        "outputId": "f9b16fe7-777c-41e9-f7ce-612f61081a02",
        "colab": {
          "base_uri": "https://localhost:8080/"
        }
      },
      "outputs": [
        {
          "output_type": "stream",
          "name": "stdout",
          "text": [
            "1 4 9 16 25 36 49 64 81 100 121 144 169 196 225 256 289 324 361 400 441 484 529 576 625 676 729 784 841 900 961 1024 1089 1156 1225 1296 1369 1444 1521 1600 1681 1764 1849 1936 2025 2116 2209 2304 2401 2500 2601 2704 2809 2916 3025 3136 3249 3364 3481 3600 3721 3844 3969 4096 4225 4356 4489 4624 4761 4900 5041 5184 5329 5476 5625 5776 5929 6084 6241 6400 6561 6724 6889 7056 7225 7396 7569 7744 7921 8100 8281 8464 8649 8836 9025 9216 9409 9604 9801 10000 "
          ]
        }
      ],
      "source": [
        "st = gpows(range(1, 101))\n",
        "for i in st:\n",
        "    print(i, end=' ')"
      ]
    },
    {
      "cell_type": "code",
      "execution_count": 27,
      "metadata": {
        "id": "CAAF9IFF4Co8",
        "outputId": "854654d7-2945-4f42-9538-0e3c6109bb8f",
        "colab": {
          "base_uri": "https://localhost:8080/"
        }
      },
      "outputs": [
        {
          "output_type": "execute_result",
          "data": {
            "text/plain": [
              "128"
            ]
          },
          "metadata": {},
          "execution_count": 27
        }
      ],
      "source": [
        "sys.getsizeof(st) "
      ]
    },
    {
      "cell_type": "markdown",
      "metadata": {
        "id": "Hz4bNnQ44Co8"
      },
      "source": [
        "### `yield from` (python 3.3 이상 필요)"
      ]
    },
    {
      "cell_type": "code",
      "execution_count": 28,
      "metadata": {
        "id": "3OV-tc4w4Co8"
      },
      "outputs": [],
      "source": [
        "def get_nums():\n",
        "    ns = [0, 1, 0, 1, 0, 1]\n",
        "    for i in ns:\n",
        "        yield i"
      ]
    },
    {
      "cell_type": "code",
      "execution_count": 29,
      "metadata": {
        "id": "OZ9MvmK94Co9"
      },
      "outputs": [],
      "source": [
        "g = get_nums()"
      ]
    },
    {
      "cell_type": "code",
      "execution_count": 30,
      "metadata": {
        "id": "bQZ4zDQu4Co9",
        "outputId": "c572238f-89c2-4e5a-9dab-29d1380fde64",
        "colab": {
          "base_uri": "https://localhost:8080/"
        }
      },
      "outputs": [
        {
          "output_type": "execute_result",
          "data": {
            "text/plain": [
              "0"
            ]
          },
          "metadata": {},
          "execution_count": 30
        }
      ],
      "source": [
        "next(g)"
      ]
    },
    {
      "cell_type": "code",
      "execution_count": 31,
      "metadata": {
        "id": "Rl2KKVrR4Co9",
        "outputId": "94dddb3f-7cda-43aa-a51f-9b4646fbcebb",
        "colab": {
          "base_uri": "https://localhost:8080/"
        }
      },
      "outputs": [
        {
          "output_type": "execute_result",
          "data": {
            "text/plain": [
              "1"
            ]
          },
          "metadata": {},
          "execution_count": 31
        }
      ],
      "source": [
        "next(g)"
      ]
    },
    {
      "cell_type": "code",
      "execution_count": 32,
      "metadata": {
        "id": "cJ04FmmD4Co9"
      },
      "outputs": [],
      "source": [
        "def get_nums():\n",
        "    ns = [0, 1, 0, 1, 0, 1]\n",
        "    yield from ns"
      ]
    },
    {
      "cell_type": "code",
      "execution_count": 33,
      "metadata": {
        "id": "Sv6wuuwm4Co-"
      },
      "outputs": [],
      "source": [
        "g = get_nums()"
      ]
    },
    {
      "cell_type": "code",
      "execution_count": 34,
      "metadata": {
        "id": "JO6oPTRr4Co-",
        "outputId": "a9f49089-0d7c-4da4-ffaa-13ac3c6f8903",
        "colab": {
          "base_uri": "https://localhost:8080/"
        }
      },
      "outputs": [
        {
          "output_type": "execute_result",
          "data": {
            "text/plain": [
              "0"
            ]
          },
          "metadata": {},
          "execution_count": 34
        }
      ],
      "source": [
        "next(g)"
      ]
    },
    {
      "cell_type": "code",
      "execution_count": 36,
      "metadata": {
        "id": "gDsZqG0-4Co-",
        "outputId": "5cb0d640-0278-4815-b458-f190c444e7ea",
        "colab": {
          "base_uri": "https://localhost:8080/"
        }
      },
      "outputs": [
        {
          "output_type": "execute_result",
          "data": {
            "text/plain": [
              "0"
            ]
          },
          "metadata": {},
          "execution_count": 36
        }
      ],
      "source": [
        "next(g)"
      ]
    }
  ],
  "metadata": {
    "celltoolbar": "Slideshow",
    "kernelspec": {
      "display_name": "Python 3 (ipykernel)",
      "language": "python",
      "name": "python3"
    },
    "language_info": {
      "codemirror_mode": {
        "name": "ipython",
        "version": 3
      },
      "file_extension": ".py",
      "mimetype": "text/x-python",
      "name": "python",
      "nbconvert_exporter": "python",
      "pygments_lexer": "ipython3",
      "version": "3.8.12"
    },
    "colab": {
      "name": "story_07_09.ipynb",
      "provenance": []
    }
  },
  "nbformat": 4,
  "nbformat_minor": 0
}