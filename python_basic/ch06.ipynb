{
  "cells": [
    {
      "cell_type": "markdown",
      "metadata": {
        "id": "9DAs0OHO1nwA"
      },
      "source": [
        "## Chapter 06. 리스트와 문자열 함수들"
      ]
    },
    {
      "cell_type": "markdown",
      "metadata": {
        "id": "RrAbFZu01nwE"
      },
      "source": [
        "### 06-1. 리스트와 함수들"
      ]
    },
    {
      "cell_type": "code",
      "execution_count": 1,
      "metadata": {
        "id": "QepCK7W01nwF",
        "outputId": "c12e8359-7386-4efb-dd13-4372da6fc4c4",
        "colab": {
          "base_uri": "https://localhost:8080/"
        }
      },
      "outputs": [
        {
          "output_type": "execute_result",
          "data": {
            "text/plain": [
              "5"
            ]
          },
          "metadata": {},
          "execution_count": 1
        }
      ],
      "source": [
        "st = [1, 3, 5, 7, 9]\n",
        "num = len(st)\n",
        "num"
      ]
    },
    {
      "cell_type": "code",
      "execution_count": 2,
      "metadata": {
        "id": "BJjDMbxQ1nwG",
        "outputId": "b926508a-c393-41bc-c76d-f0c6a80c7229",
        "colab": {
          "base_uri": "https://localhost:8080/"
        }
      },
      "outputs": [
        {
          "output_type": "execute_result",
          "data": {
            "text/plain": [
              "1"
            ]
          },
          "metadata": {},
          "execution_count": 2
        }
      ],
      "source": [
        "min(st)"
      ]
    },
    {
      "cell_type": "code",
      "execution_count": 3,
      "metadata": {
        "id": "T2DezdYO1nwG",
        "outputId": "432885bc-eb48-40f8-cb9c-04f1079860bc",
        "colab": {
          "base_uri": "https://localhost:8080/"
        }
      },
      "outputs": [
        {
          "output_type": "execute_result",
          "data": {
            "text/plain": [
              "9"
            ]
          },
          "metadata": {},
          "execution_count": 3
        }
      ],
      "source": [
        "max(st)"
      ]
    },
    {
      "cell_type": "code",
      "execution_count": 9,
      "metadata": {
        "id": "mtqCrfaR1nwG",
        "outputId": "42bf92b0-b3e0-46b9-f16a-64eeed07b077",
        "colab": {
          "base_uri": "https://localhost:8080/"
        }
      },
      "outputs": [
        {
          "output_type": "execute_result",
          "data": {
            "text/plain": [
              "[1, 3, 4, 5]"
            ]
          },
          "metadata": {},
          "execution_count": 9
        }
      ],
      "source": [
        "st = [1, 2, 3, 4, 5]\n",
        "st.remove(2)         # 리스트에서 2를 찾아 삭제\n",
        "st"
      ]
    },
    {
      "cell_type": "code",
      "execution_count": 15,
      "metadata": {
        "id": "KlvR0MmM1nwH",
        "outputId": "d1f5f784-3208-4018-fbf0-a05a432e5ecc",
        "colab": {
          "base_uri": "https://localhost:8080/"
        }
      },
      "outputs": [
        {
          "output_type": "execute_result",
          "data": {
            "text/plain": [
              "[1, 3, 4, 5, 6, 7, 8, 6, 6, 6, 6]"
            ]
          },
          "metadata": {},
          "execution_count": 15
        }
      ],
      "source": [
        "st.append(6)         # st 끝에 6 추가\n",
        "st"
      ]
    },
    {
      "cell_type": "code",
      "execution_count": 17,
      "metadata": {
        "id": "z3aIM3lw1nwH",
        "outputId": "dc362741-f0d8-4918-f6ee-5de366b34f12",
        "colab": {
          "base_uri": "https://localhost:8080/"
        }
      },
      "outputs": [
        {
          "output_type": "execute_result",
          "data": {
            "text/plain": [
              "[1, 3, 4, 5, 6, 7, 8, 6, 6, 6, 6, 7, 8, 7, 8]"
            ]
          },
          "metadata": {},
          "execution_count": 17
        }
      ],
      "source": [
        "st.extend([7, 8])    # st 끝에 [7, 8] 추가 \n",
        "st"
      ]
    },
    {
      "cell_type": "code",
      "execution_count": 24,
      "metadata": {
        "id": "ju88i-xv1nwI",
        "outputId": "d0b9d3ed-4068-4cca-bc47-c49284ed8abd",
        "colab": {
          "base_uri": "https://localhost:8080/"
        }
      },
      "outputs": [
        {
          "output_type": "execute_result",
          "data": {
            "text/plain": [
              "[1, 2, 3, 4]"
            ]
          },
          "metadata": {},
          "execution_count": 24
        }
      ],
      "source": [
        "st = [1, 2, 4]\n",
        "st.insert(2, 3)      # 인덱스 2의 위치에 3 저장\n",
        "st"
      ]
    },
    {
      "cell_type": "code",
      "execution_count": 25,
      "metadata": {
        "id": "4CyrKjaE1nwJ",
        "outputId": "f16d5ad3-586b-4b44-e25f-fd606ffcbfce",
        "colab": {
          "base_uri": "https://localhost:8080/"
        }
      },
      "outputs": [
        {
          "output_type": "execute_result",
          "data": {
            "text/plain": [
              "[]"
            ]
          },
          "metadata": {},
          "execution_count": 25
        }
      ],
      "source": [
        "st.clear()           # 리스트 내용 전부 삭제\n",
        "st"
      ]
    },
    {
      "cell_type": "code",
      "execution_count": 26,
      "metadata": {
        "id": "4Ge5jA9g1nwK",
        "outputId": "e56b9274-757d-4874-aaab-f07d4ac9fa9c",
        "colab": {
          "base_uri": "https://localhost:8080/"
        }
      },
      "outputs": [
        {
          "output_type": "execute_result",
          "data": {
            "text/plain": [
              "[1, 9]"
            ]
          },
          "metadata": {},
          "execution_count": 26
        }
      ],
      "source": [
        "st = []             # 빈 리스트 생성\n",
        "st.append(1)\n",
        "st.append(9)\n",
        "st"
      ]
    },
    {
      "cell_type": "code",
      "execution_count": 29,
      "metadata": {
        "id": "6sJ8JiFO1nwK",
        "outputId": "7c01118e-2266-474c-ee50-80ca168b77dd",
        "colab": {
          "base_uri": "https://localhost:8080/"
        }
      },
      "outputs": [
        {
          "output_type": "execute_result",
          "data": {
            "text/plain": [
              "5"
            ]
          },
          "metadata": {},
          "execution_count": 29
        }
      ],
      "source": [
        "st = [1, 2, 3, 4, 5]\n",
        "st.pop()"
      ]
    },
    {
      "cell_type": "code",
      "execution_count": 30,
      "metadata": {
        "id": "cyDqS7wR1nwK",
        "outputId": "95cc375a-515f-4032-98bf-fe42641c3de7",
        "colab": {
          "base_uri": "https://localhost:8080/"
        }
      },
      "outputs": [
        {
          "output_type": "execute_result",
          "data": {
            "text/plain": [
              "1"
            ]
          },
          "metadata": {},
          "execution_count": 30
        }
      ],
      "source": [
        "st.pop(0)"
      ]
    },
    {
      "cell_type": "code",
      "execution_count": 31,
      "metadata": {
        "id": "NAwTIndc1nwL",
        "outputId": "f3fef7d0-f4fa-4e6b-b620-88de124a5754",
        "colab": {
          "base_uri": "https://localhost:8080/"
        }
      },
      "outputs": [
        {
          "output_type": "execute_result",
          "data": {
            "text/plain": [
              "[2, 3, 4]"
            ]
          },
          "metadata": {},
          "execution_count": 31
        }
      ],
      "source": [
        "st"
      ]
    },
    {
      "cell_type": "code",
      "execution_count": 32,
      "metadata": {
        "id": "SDlMWF-_1nwL",
        "outputId": "b5e40c84-514e-4a13-9f1d-6cca2f0b9577",
        "colab": {
          "base_uri": "https://localhost:8080/"
        }
      },
      "outputs": [
        {
          "output_type": "execute_result",
          "data": {
            "text/plain": [
              "[1, 2, 3, 5]"
            ]
          },
          "metadata": {},
          "execution_count": 32
        }
      ],
      "source": [
        "st = [1, 2, 3, 4, 5]\n",
        "st.remove(4)\n",
        "st"
      ]
    },
    {
      "cell_type": "code",
      "execution_count": 34,
      "metadata": {
        "id": "-eXiwarU1nwL",
        "outputId": "0b6ee8d5-62ea-4dc2-fb4f-37e1c00a7efe",
        "colab": {
          "base_uri": "https://localhost:8080/"
        }
      },
      "outputs": [
        {
          "output_type": "execute_result",
          "data": {
            "text/plain": [
              "2"
            ]
          },
          "metadata": {},
          "execution_count": 34
        }
      ],
      "source": [
        "st = [1, 2, 3, 1, 2]\n",
        "st.count(1)"
      ]
    },
    {
      "cell_type": "code",
      "execution_count": 35,
      "metadata": {
        "id": "8osdEEb51nwL",
        "outputId": "9b1cb11a-cc7a-4c9e-f195-050e394a4102",
        "colab": {
          "base_uri": "https://localhost:8080/"
        }
      },
      "outputs": [
        {
          "output_type": "execute_result",
          "data": {
            "text/plain": [
              "1"
            ]
          },
          "metadata": {},
          "execution_count": 35
        }
      ],
      "source": [
        "st.index(2)"
      ]
    },
    {
      "cell_type": "markdown",
      "metadata": {
        "id": "QdfNK-v-1nwM"
      },
      "source": [
        "### 06-2. 두 가지 유형의 함수"
      ]
    },
    {
      "cell_type": "markdown",
      "metadata": {
        "id": "Tvqj7mVC1nwM"
      },
      "source": [
        "* 객체 안에 있는 함수\n",
        "* 객체 밖에 있는 함수"
      ]
    },
    {
      "cell_type": "markdown",
      "metadata": {
        "id": "3brX_ZF31nwM"
      },
      "source": [
        "### 06-3. 문자열과 함수들"
      ]
    },
    {
      "cell_type": "code",
      "execution_count": 36,
      "metadata": {
        "id": "NLsPAFrh1nwM"
      },
      "outputs": [],
      "source": [
        "str = 'Process Systems Engineering' #문자열은 작은따옴표"
      ]
    },
    {
      "cell_type": "code",
      "execution_count": 37,
      "metadata": {
        "id": "g7uqRkYA1nwN",
        "outputId": "eab05901-4865-48c5-cde9-bf8929386239",
        "colab": {
          "base_uri": "https://localhost:8080/"
        }
      },
      "outputs": [
        {
          "output_type": "execute_result",
          "data": {
            "text/plain": [
              "4"
            ]
          },
          "metadata": {},
          "execution_count": 37
        }
      ],
      "source": [
        "str.count('e') #count로 e의 개수를 셀 수 있음"
      ]
    },
    {
      "cell_type": "code",
      "execution_count": 38,
      "metadata": {
        "id": "qfQv1Dsa1nwN",
        "outputId": "8a7a8ab2-599e-4253-9433-206108986849",
        "colab": {
          "base_uri": "https://localhost:8080/"
        }
      },
      "outputs": [
        {
          "output_type": "execute_result",
          "data": {
            "text/plain": [
              "1"
            ]
          },
          "metadata": {},
          "execution_count": 38
        }
      ],
      "source": [
        "str.count('ee')"
      ]
    },
    {
      "cell_type": "code",
      "execution_count": 39,
      "metadata": {
        "id": "2qQ0Jt9W1nwN",
        "outputId": "721f0672-1273-4ae6-ccb6-9313ec575f78",
        "colab": {
          "base_uri": "https://localhost:8080/"
        }
      },
      "outputs": [
        {
          "output_type": "stream",
          "name": "stdout",
          "text": [
            "yoo YOO\n"
          ]
        }
      ],
      "source": [
        "last_name = 'Yoo'\n",
        "lcp = last_name.lower() #lower은 모두 소문자 upper는 모두 대문자로 바꾸게함\n",
        "ucp = last_name.upper()\n",
        "print(lcp, ucp)"
      ]
    },
    {
      "cell_type": "code",
      "execution_count": 43,
      "metadata": {
        "id": "GeOp1q9W1nwN"
      },
      "outputs": [],
      "source": [
        "org = ' MIDDLE '\n",
        "cp1 = org.lstrip() #왼쪽에 있는 빈칸을 모두 날려라\n",
        "cp2 = org.rstrip() #오른쪽에 있는 빈칸을 모두 날려라"
      ]
    },
    {
      "cell_type": "code",
      "execution_count": 44,
      "metadata": {
        "id": "Gt1WDcBN1nwN",
        "outputId": "d3bb904e-2426-4ca3-b93c-c7a628307521",
        "colab": {
          "base_uri": "https://localhost:8080/",
          "height": 35
        }
      },
      "outputs": [
        {
          "output_type": "execute_result",
          "data": {
            "application/vnd.google.colaboratory.intrinsic+json": {
              "type": "string"
            },
            "text/plain": [
              "' MIDDLE '"
            ]
          },
          "metadata": {},
          "execution_count": 44
        }
      ],
      "source": [
        "org"
      ]
    },
    {
      "cell_type": "code",
      "execution_count": 45,
      "metadata": {
        "id": "fZNptzFP1nwO",
        "outputId": "82baaa7e-2668-47bf-c150-a9a60f6b3759",
        "colab": {
          "base_uri": "https://localhost:8080/",
          "height": 35
        }
      },
      "outputs": [
        {
          "output_type": "execute_result",
          "data": {
            "application/vnd.google.colaboratory.intrinsic+json": {
              "type": "string"
            },
            "text/plain": [
              "'MIDDLE '"
            ]
          },
          "metadata": {},
          "execution_count": 45
        }
      ],
      "source": [
        "cp1"
      ]
    },
    {
      "cell_type": "code",
      "execution_count": 46,
      "metadata": {
        "id": "L6UruwCi1nwO",
        "outputId": "54279345-028a-41fd-e1b7-12348d662a6d",
        "colab": {
          "base_uri": "https://localhost:8080/",
          "height": 35
        }
      },
      "outputs": [
        {
          "output_type": "execute_result",
          "data": {
            "application/vnd.google.colaboratory.intrinsic+json": {
              "type": "string"
            },
            "text/plain": [
              "' MIDDLE'"
            ]
          },
          "metadata": {},
          "execution_count": 46
        }
      ],
      "source": [
        "cp2"
      ]
    },
    {
      "cell_type": "code",
      "execution_count": 47,
      "metadata": {
        "id": "4BzNca8P1nwO",
        "outputId": "df61c5b6-6504-4f5f-f00c-4b992810687d",
        "colab": {
          "base_uri": "https://localhost:8080/",
          "height": 35
        }
      },
      "outputs": [
        {
          "output_type": "execute_result",
          "data": {
            "application/vnd.google.colaboratory.intrinsic+json": {
              "type": "string"
            },
            "text/plain": [
              "'MIDDLE'"
            ]
          },
          "metadata": {},
          "execution_count": 47
        }
      ],
      "source": [
        "cp3 = org.strip()\n",
        "cp3"
      ]
    },
    {
      "cell_type": "code",
      "execution_count": null,
      "metadata": {
        "id": "2WU8VhjY1nwO"
      },
      "outputs": [],
      "source": [
        "org = 'Kee-Youn Yoo'\n",
        "cp1 = org.replace('Yo', 'xx') #앞에 있는거를 뒤의걸로 바꾸어라\n",
        "cp1"
      ]
    },
    {
      "cell_type": "code",
      "execution_count": null,
      "metadata": {
        "id": "bfBLFntO1nwO"
      },
      "outputs": [],
      "source": [
        "org = 'Kee-Youn Yoo'\n",
        "cp2 = org.replace('Yo', 'xx', 1) #앞에 있는거를 뒤의 걸로 1번만 바꾸어라\n",
        "cp2"
      ]
    },
    {
      "cell_type": "code",
      "execution_count": 48,
      "metadata": {
        "id": "q7GuD5nD1nwO",
        "outputId": "0cc0335f-d2c7-41f5-99ee-99943f7e0126",
        "colab": {
          "base_uri": "https://localhost:8080/"
        }
      },
      "outputs": [
        {
          "output_type": "execute_result",
          "data": {
            "text/plain": [
              "['ab', 'cd', 'ef']"
            ]
          },
          "metadata": {},
          "execution_count": 48
        }
      ],
      "source": [
        "org = 'ab_cd_ef'\n",
        "cp3 = org.split('_')  #무언가를 기준으로 문자를 잘라라\n",
        "cp3 "
      ]
    },
    {
      "cell_type": "markdown",
      "metadata": {
        "id": "2XTUpO1N1nwP"
      },
      "source": [
        "### 06-4. 문자열 탐색관련 함수들"
      ]
    },
    {
      "cell_type": "code",
      "execution_count": null,
      "metadata": {
        "id": "wkZzkXI11nwP"
      },
      "outputs": [],
      "source": [
        "str = 'What is important is that you should choose what is best for you'\n",
        "str.find('is')   # 'is'가 있는 위치의 인덱스는?"
      ]
    },
    {
      "cell_type": "code",
      "execution_count": null,
      "metadata": {
        "id": "M7qmbkOZ1nwP"
      },
      "outputs": [],
      "source": [
        "str.rfind('is')  # 마지막 'is'가 있는 위치의 인덱스는?"
      ]
    },
    {
      "cell_type": "markdown",
      "metadata": {
        "id": "xTlIRPVG1nwP"
      },
      "source": [
        "### 06-5. 이스케이프 문자"
      ]
    },
    {
      "cell_type": "code",
      "execution_count": 49,
      "metadata": {
        "id": "6kV8R8jP1nwP",
        "outputId": "21d4872e-6ca0-4ab6-bd04-9c40619dc4b9",
        "colab": {
          "base_uri": "https://localhost:8080/"
        }
      },
      "outputs": [
        {
          "output_type": "stream",
          "name": "stdout",
          "text": [
            "Escape\n",
            "Characters\t\\ \t' \t\"\n"
          ]
        }
      ],
      "source": [
        "str = 'Escape\\nCharacters\\t\\\\ \\t\\' \\t\\\"'     #\\n 줄바꿈 \\\\을 해야 \\이고 \\t는 탭을 의미\n",
        "print(str)"
      ]
    },
    {
      "cell_type": "code",
      "execution_count": 55,
      "metadata": {
        "id": "ktS_xEc01nwP",
        "outputId": "c0440004-e3fe-47ff-9240-4087377ca548",
        "colab": {
          "base_uri": "https://localhost:8080/"
        }
      },
      "outputs": [
        {
          "output_type": "stream",
          "name": "stdout",
          "text": [
            "제가 마음 속으로 그랬습니다. \"이건 아니야.\"라고 말이죠.\n"
          ]
        }
      ],
      "source": [
        "str = '제가 마음 속으로 그랬습니다. \"이건 아니야.\"라고 말이죠.'\n",
        "print(str)"
      ]
    },
    {
      "cell_type": "code",
      "execution_count": 52,
      "metadata": {
        "id": "hiFsFiwz1nwP",
        "outputId": "2e7283b5-7ada-482e-e2b5-6ce049b3f948",
        "colab": {
          "base_uri": "https://localhost:8080/"
        }
      },
      "outputs": [
        {
          "output_type": "stream",
          "name": "stdout",
          "text": [
            "제가 마음속으로 그랬습니다. '이건 아니야.'라고 말이죠.\n"
          ]
        }
      ],
      "source": [
        "str = '제가 마음속으로 그랬습니다. \\'이건 아니야.\\'라고 말이죠.'\n",
        "print(str)"
      ]
    },
    {
      "cell_type": "markdown",
      "metadata": {
        "id": "SszOWcuh1nwQ"
      },
      "source": [
        "### 06-6. 함수가 아닌 del 명령"
      ]
    },
    {
      "cell_type": "code",
      "execution_count": 53,
      "metadata": {
        "id": "KtE9cf8I1nwQ",
        "outputId": "63c240e0-c062-4e60-b35e-4547fbdf3cd5",
        "colab": {
          "base_uri": "https://localhost:8080/"
        }
      },
      "outputs": [
        {
          "output_type": "execute_result",
          "data": {
            "text/plain": [
              "[]"
            ]
          },
          "metadata": {},
          "execution_count": 53
        }
      ],
      "source": [
        "st = [1, 2, 3, 4, 5]\n",
        "st.clear()      # 리스트의 모든 값 삭제\n",
        "st"
      ]
    },
    {
      "cell_type": "code",
      "execution_count": null,
      "metadata": {
        "id": "8pPSGthe1nwQ"
      },
      "outputs": [],
      "source": [
        "st = [1, 2, 3, 4, 5]\n",
        "st[:] = []      # 리스트의 모든 값 삭제\n",
        "st"
      ]
    },
    {
      "cell_type": "code",
      "execution_count": null,
      "metadata": {
        "id": "S6ld6WTr1nwQ"
      },
      "outputs": [],
      "source": [
        "st = [1, 2, 3, 4, 5]\n",
        "st[2:] = []      # 인덱스 2 이후로 전부 삭제\n",
        "st"
      ]
    },
    {
      "cell_type": "code",
      "execution_count": null,
      "metadata": {
        "id": "keQYb8_Q1nwQ"
      },
      "outputs": [],
      "source": [
        "st = [1, 2, 3, 4, 5]\n",
        "del st[:]        # 리스트에 저장된 값 모두 삭제\n",
        "st"
      ]
    },
    {
      "cell_type": "code",
      "execution_count": null,
      "metadata": {
        "id": "Rynwg_sp1nwQ"
      },
      "outputs": [],
      "source": [
        "st = [1, 2, 3, 4, 5]\n",
        "del st[3:]      # st[3]부터 그 뒤까지 모두 삭제\n",
        "del st[0]       # st[0] 하나만 삭제\n",
        "st"
      ]
    },
    {
      "cell_type": "code",
      "execution_count": null,
      "metadata": {
        "id": "PDg7C_u81nwQ"
      },
      "outputs": [],
      "source": [
        "st = [1, 2, 3, 4, 5]\n",
        "del st      # 리스트를 통째로 삭제! 리스트 자체를 삭제!\n",
        "st"
      ]
    }
  ],
  "metadata": {
    "celltoolbar": "Slideshow",
    "kernelspec": {
      "display_name": "Python 3 (ipykernel)",
      "language": "python",
      "name": "python3"
    },
    "language_info": {
      "codemirror_mode": {
        "name": "ipython",
        "version": 3
      },
      "file_extension": ".py",
      "mimetype": "text/x-python",
      "name": "python",
      "nbconvert_exporter": "python",
      "pygments_lexer": "ipython3",
      "version": "3.8.12"
    },
    "colab": {
      "name": "ch06.ipynb",
      "provenance": []
    }
  },
  "nbformat": 4,
  "nbformat_minor": 0
}