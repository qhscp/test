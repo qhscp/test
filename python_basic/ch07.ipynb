{
  "cells": [
    {
      "cell_type": "markdown",
      "metadata": {
        "id": "d96RRU2uBaY4"
      },
      "source": [
        "## Chapter 07. True, False 그리고 if$\\,$와 그 형제들 ..."
      ]
    },
    {
      "cell_type": "markdown",
      "metadata": {
        "id": "pa9vwf5KBaY8"
      },
      "source": [
        "### 07-1. 참과 거짓을 의미하는 값"
      ]
    },
    {
      "cell_type": "code",
      "execution_count": 1,
      "metadata": {
        "id": "dj_hkxJVBaY-",
        "outputId": "c66d5874-c09c-4fd1-9028-5b48f4ecc180",
        "colab": {
          "base_uri": "https://localhost:8080/"
        }
      },
      "outputs": [
        {
          "output_type": "execute_result",
          "data": {
            "text/plain": [
              "True"
            ]
          },
          "metadata": {},
          "execution_count": 1
        }
      ],
      "source": [
        "True      # True는 그 단어의 의미처럼 '참'을 뜻한다."
      ]
    },
    {
      "cell_type": "code",
      "execution_count": 2,
      "metadata": {
        "id": "46HMVPNxBaY_",
        "outputId": "2d1e1cb7-50f3-4381-d91d-aefa953c0a32",
        "colab": {
          "base_uri": "https://localhost:8080/"
        }
      },
      "outputs": [
        {
          "output_type": "execute_result",
          "data": {
            "text/plain": [
              "False"
            ]
          },
          "metadata": {},
          "execution_count": 2
        }
      ],
      "source": [
        "False     # False는 그 단어의 의미처럼 '거짓'을 뜻한다."
      ]
    },
    {
      "cell_type": "code",
      "execution_count": 3,
      "metadata": {
        "id": "oz_g4tXzBaZA",
        "outputId": "5a80930e-5b3f-45d0-9a88-5702c1f6274d",
        "colab": {
          "base_uri": "https://localhost:8080/"
        }
      },
      "outputs": [
        {
          "output_type": "execute_result",
          "data": {
            "text/plain": [
              "False"
            ]
          },
          "metadata": {},
          "execution_count": 3
        }
      ],
      "source": [
        "3 > 10  # 3이 10보다 크니?"
      ]
    },
    {
      "cell_type": "code",
      "execution_count": 4,
      "metadata": {
        "id": "5YWh9oERBaZB",
        "outputId": "3cf0d852-0e4f-4f5a-abd2-c19cb660f0ab",
        "colab": {
          "base_uri": "https://localhost:8080/"
        }
      },
      "outputs": [
        {
          "output_type": "execute_result",
          "data": {
            "text/plain": [
              "True"
            ]
          },
          "metadata": {},
          "execution_count": 4
        }
      ],
      "source": [
        "3 < 10  # 3이 10보다 작으니?"
      ]
    },
    {
      "cell_type": "code",
      "execution_count": 5,
      "metadata": {
        "id": "FutkRdLlBaZB",
        "outputId": "3559f19c-6399-4abc-e8e9-3a5be6ca3846",
        "colab": {
          "base_uri": "https://localhost:8080/"
        }
      },
      "outputs": [
        {
          "output_type": "execute_result",
          "data": {
            "text/plain": [
              "True"
            ]
          },
          "metadata": {},
          "execution_count": 5
        }
      ],
      "source": [
        "r = 3 < 10     # < 연산의 결과인 True가 변수 r에 저장된다.\n",
        "r"
      ]
    },
    {
      "cell_type": "code",
      "execution_count": 6,
      "metadata": {
        "scrolled": true,
        "id": "dK-CrNkBBaZC",
        "outputId": "2c8efdad-5a77-4704-f875-08ab53ff7411",
        "colab": {
          "base_uri": "https://localhost:8080/"
        }
      },
      "outputs": [
        {
          "output_type": "execute_result",
          "data": {
            "text/plain": [
              "bool"
            ]
          },
          "metadata": {},
          "execution_count": 6
        }
      ],
      "source": [
        "type(True)   #true와 false를 bool형이라 한다."
      ]
    },
    {
      "cell_type": "code",
      "execution_count": 7,
      "metadata": {
        "id": "67zIl6qXBaZD",
        "outputId": "69f4968c-f3d7-4e71-93c4-897f2be1aabe",
        "colab": {
          "base_uri": "https://localhost:8080/"
        }
      },
      "outputs": [
        {
          "output_type": "execute_result",
          "data": {
            "text/plain": [
              "bool"
            ]
          },
          "metadata": {},
          "execution_count": 7
        }
      ],
      "source": [
        "type(False)"
      ]
    },
    {
      "cell_type": "markdown",
      "metadata": {
        "id": "RoCcblBBBaZE"
      },
      "source": [
        "```python\n",
        "int\n",
        "float\n",
        "list\n",
        "str\n",
        "bool\n",
        "```"
      ]
    },
    {
      "cell_type": "markdown",
      "metadata": {
        "id": "u4RlSHBCBaZF"
      },
      "source": [
        "### 07-2. 소스파일에 main 함수 만들기"
      ]
    },
    {
      "cell_type": "code",
      "execution_count": null,
      "metadata": {
        "id": "XwKzWahqBaZF"
      },
      "outputs": [],
      "source": [
        "%%writefile simple_frame.py\n",
        "\n",
        "def main():\n",
        "    print(\"Simple Frame\")\n",
        "\n",
        "if __name__ == '__main__':\n",
        "    main() "
      ]
    },
    {
      "cell_type": "code",
      "execution_count": null,
      "metadata": {
        "id": "lh2rZoNsBaZG"
      },
      "outputs": [],
      "source": [
        "%run simple_frame.py"
      ]
    },
    {
      "cell_type": "code",
      "execution_count": null,
      "metadata": {
        "id": "9b9Nvl_BBaZG"
      },
      "outputs": [],
      "source": [
        "import os\n",
        "\n",
        "os.remove('simple_frame.py')"
      ]
    },
    {
      "cell_type": "markdown",
      "metadata": {
        "id": "W0fbe7fDBaZH"
      },
      "source": [
        "### 07-3. if 문: 조건이 맞으면 실행을 해라"
      ]
    },
    {
      "cell_type": "markdown",
      "metadata": {
        "cell_style": "split",
        "id": "W0EmgjZhBaZH"
      },
      "source": [
        "![if statement](https://github.com/SeoulTechPSE/CompThinking/blob/master/python_basic/figs/fig07-1.jpg?raw=1)"
      ]
    },
    {
      "cell_type": "code",
      "execution_count": null,
      "metadata": {
        "cell_style": "split",
        "id": "Pq0qtqZWBaZI"
      },
      "outputs": [],
      "source": [
        "num = 1\n",
        "if num > 0:\n",
        "    print('양의 정수입니다.')"
      ]
    },
    {
      "cell_type": "code",
      "execution_count": null,
      "metadata": {
        "cell_style": "split",
        "id": "v5OialF0BaZI"
      },
      "outputs": [],
      "source": [
        "num = -1\n",
        "if num > 0:\n",
        "    print('양의 정수입니다.')"
      ]
    },
    {
      "cell_type": "markdown",
      "metadata": {
        "id": "qVAL_fDWBaZI"
      },
      "source": [
        "### 07-4. if $\\sim$ else문: 이쪽 길! 아니면 저쪽 길!"
      ]
    },
    {
      "cell_type": "markdown",
      "metadata": {
        "cell_style": "split",
        "id": "m5l_jw79BaZJ"
      },
      "source": [
        "![if else_statement](https://github.com/SeoulTechPSE/CompThinking/blob/master/python_basic/figs/fig07-2.jpg?raw=1)"
      ]
    },
    {
      "cell_type": "code",
      "execution_count": null,
      "metadata": {
        "cell_style": "split",
        "id": "rPW1KSevBaZJ"
      },
      "outputs": [],
      "source": [
        "def main():\n",
        "    num = int(input(\"정수 입력: \"))\n",
        "    if num > 0:\n",
        "        print(\"0보다 큰 수입니다.\")\n",
        "    else:\n",
        "        print(\"0보다 크지 않은 수입니다.\")\n",
        "\n",
        "main()"
      ]
    },
    {
      "cell_type": "code",
      "execution_count": null,
      "metadata": {
        "cell_style": "split",
        "id": "8BjtpvpnBaZK"
      },
      "outputs": [],
      "source": [
        "main()"
      ]
    },
    {
      "cell_type": "markdown",
      "metadata": {
        "id": "cyU8j6UrBaZK"
      },
      "source": [
        "### 07-5. if $\\sim$ elif $\\sim$ else문: 여러 길 중에서 하나의 길만 선택!"
      ]
    },
    {
      "cell_type": "code",
      "execution_count": 8,
      "metadata": {
        "id": "wNvrSh94BaZK",
        "outputId": "bfd2e0e6-01b1-4eb4-995b-33f5e7d07d95",
        "colab": {
          "base_uri": "https://localhost:8080/"
        }
      },
      "outputs": [
        {
          "output_type": "stream",
          "name": "stdout",
          "text": [
            "정수 입력: 0\n",
            "0으로 판단이 됩니다.\n"
          ]
        }
      ],
      "source": [
        "def main():\n",
        "    num = int(input(\"정수 입력: \"))\n",
        "\n",
        "    if num > 0:\n",
        "        print(\"0보다 큰 수입니다.\") \n",
        "    elif num < 0:\n",
        "        print(\"0보다 작은 수입니다.\")\n",
        "    else:\n",
        "        print(\"0으로 판단이 됩니다.\")\n",
        "\n",
        "main()"
      ]
    },
    {
      "cell_type": "markdown",
      "metadata": {
        "id": "55tOsl20BaZL"
      },
      "source": [
        "### 07-6. True 또는 False를 반환하는 연산들"
      ]
    },
    {
      "cell_type": "markdown",
      "metadata": {
        "cell_style": "split",
        "id": "dIRyAjOoBaZL"
      },
      "source": [
        "```\n",
        "  A > Z \n",
        "  A < Z \n",
        " \n",
        " A >= Z  \n",
        " A <= Z \n",
        " A == Z \n",
        " A != Z  #A랑 Z는 다르다\n",
        "```"
      ]
    },
    {
      "cell_type": "code",
      "execution_count": 9,
      "metadata": {
        "cell_style": "split",
        "id": "KbSRjqYdBaZL",
        "outputId": "41c6858c-7add-46a0-8c7c-2d46e3aed63c",
        "colab": {
          "base_uri": "https://localhost:8080/"
        }
      },
      "outputs": [
        {
          "output_type": "stream",
          "name": "stdout",
          "text": [
            "정수 입력: 3\n",
            "3 이상을 입력했습니다.\n"
          ]
        }
      ],
      "source": [
        "def main():\n",
        "    num = int(input(\"정수 입력: \"))\n",
        "    if num == 1:\n",
        "        print(\"1을 입력했습니다.\")\n",
        "    elif num == 2:\n",
        "        print(\"2를 입력했습니다.\")\n",
        "    elif num >= 3:\n",
        "        print(\"3 이상을 입력했습니다.\")\n",
        "    else:\n",
        "        print(\"1, 2, 3 이상이 아닌 정수 입력했습니다.\")\n",
        "\n",
        "main()"
      ]
    },
    {
      "cell_type": "code",
      "execution_count": null,
      "metadata": {
        "id": "Mv8wMHAvBaZM"
      },
      "outputs": [],
      "source": [
        "True and True"
      ]
    },
    {
      "cell_type": "code",
      "execution_count": 11,
      "metadata": {
        "id": "Ukqe5uBRBaZM",
        "outputId": "a96b913e-9e12-41a5-a8f6-76d8bf61f5d2",
        "colab": {
          "base_uri": "https://localhost:8080/"
        }
      },
      "outputs": [
        {
          "output_type": "execute_result",
          "data": {
            "text/plain": [
              "True"
            ]
          },
          "metadata": {},
          "execution_count": 11
        }
      ],
      "source": [
        "True or False"
      ]
    },
    {
      "cell_type": "code",
      "execution_count": 12,
      "metadata": {
        "id": "zozVNJbQBaZM",
        "outputId": "f7c4e467-3486-46ef-e455-55f9d4a10838",
        "colab": {
          "base_uri": "https://localhost:8080/"
        }
      },
      "outputs": [
        {
          "output_type": "execute_result",
          "data": {
            "text/plain": [
              "True"
            ]
          },
          "metadata": {},
          "execution_count": 12
        }
      ],
      "source": [
        "not False"
      ]
    },
    {
      "cell_type": "code",
      "execution_count": 13,
      "metadata": {
        "id": "cOAvIz31BaZM",
        "outputId": "61ed7dd8-3f1c-4d54-8a85-52fe270a6be7",
        "colab": {
          "base_uri": "https://localhost:8080/"
        }
      },
      "outputs": [
        {
          "output_type": "stream",
          "name": "stdout",
          "text": [
            "2의 배수이면서 3의 배수인 수 입력: 25\n",
            "NO!\n"
          ]
        }
      ],
      "source": [
        "def main():\n",
        "    num = int(input(\"2의 배수이면서 3의 배수인 수 입력: \"))\n",
        "    if num % 2 == 0:\n",
        "        if num % 3 == 0:\n",
        "            print(\"OK!\")\n",
        "        else:\n",
        "            print(\"NO!\")\n",
        "    else:\n",
        "        print(\"NO!\")\n",
        "\n",
        "main()"
      ]
    },
    {
      "cell_type": "code",
      "execution_count": 14,
      "metadata": {
        "id": "jMGnwEWLBaZN",
        "outputId": "de6d5cf3-dd9c-4127-fec0-b708a46f5ed6",
        "colab": {
          "base_uri": "https://localhost:8080/"
        }
      },
      "outputs": [
        {
          "output_type": "stream",
          "name": "stdout",
          "text": [
            "2의 배수이면서 3의 배수인 수 입력: 24\n",
            "OK!\n"
          ]
        }
      ],
      "source": [
        "def main():\n",
        "    num = int(input(\"2의 배수이면서 3의 배수인 수 입력: \"))\n",
        "    if (num % 2) == 0 and (num % 3) == 0:\n",
        "        print(\"OK!\")\n",
        "    else:\n",
        "        print(\"NO!\")\n",
        "\n",
        "main()"
      ]
    },
    {
      "cell_type": "markdown",
      "metadata": {
        "id": "B7zpuRG-BaZN"
      },
      "source": [
        "### 07-7. 리스트와 문자열을 대상으로도 동작하는 `>=, <=, ==, !=`"
      ]
    },
    {
      "cell_type": "code",
      "execution_count": null,
      "metadata": {
        "id": "oTW8r_qcBaZN"
      },
      "outputs": [],
      "source": [
        "'abc' == 'abc'"
      ]
    },
    {
      "cell_type": "code",
      "execution_count": null,
      "metadata": {
        "id": "cEHR4wUkBaZN"
      },
      "outputs": [],
      "source": [
        "'abc' != 'abc'"
      ]
    },
    {
      "cell_type": "code",
      "execution_count": 15,
      "metadata": {
        "id": "CQu6cMnvBaZN",
        "outputId": "90d9f57c-5566-4abc-ff2c-5aaaaf1df598",
        "colab": {
          "base_uri": "https://localhost:8080/"
        }
      },
      "outputs": [
        {
          "output_type": "execute_result",
          "data": {
            "text/plain": [
              "False"
            ]
          },
          "metadata": {},
          "execution_count": 15
        }
      ],
      "source": [
        "[1, 2, 3] == [1, 2]"
      ]
    },
    {
      "cell_type": "code",
      "execution_count": 16,
      "metadata": {
        "id": "yyQnf9wIBaZO",
        "outputId": "53708791-de1c-4b12-e7b9-753f900b8c42",
        "colab": {
          "base_uri": "https://localhost:8080/"
        }
      },
      "outputs": [
        {
          "output_type": "execute_result",
          "data": {
            "text/plain": [
              "True"
            ]
          },
          "metadata": {},
          "execution_count": 16
        }
      ],
      "source": [
        "[1, 2, 3] != [1, 2]"
      ]
    },
    {
      "cell_type": "markdown",
      "metadata": {
        "id": "jgkVLHKiBaZO"
      },
      "source": [
        "### 07-8.  True 또는 False로 답하는 함수들"
      ]
    },
    {
      "cell_type": "code",
      "execution_count": 17,
      "metadata": {
        "id": "ASskdZpEBaZO"
      },
      "outputs": [],
      "source": [
        "st1 = \"123\"\n",
        "st2 = \"OneTwoThree\""
      ]
    },
    {
      "cell_type": "code",
      "execution_count": 20,
      "metadata": {
        "id": "eOe__2z1BaZO",
        "outputId": "6e0df376-0557-4a26-cd51-f212abd49b2f",
        "colab": {
          "base_uri": "https://localhost:8080/"
        }
      },
      "outputs": [
        {
          "output_type": "execute_result",
          "data": {
            "text/plain": [
              "True"
            ]
          },
          "metadata": {},
          "execution_count": 20
        }
      ],
      "source": [
        "st1.isdigit() #입력한 문자열이 숫자만 가지고 있는가?"
      ]
    },
    {
      "cell_type": "code",
      "execution_count": 19,
      "metadata": {
        "id": "cC8AW7bgBaZO",
        "outputId": "3e50dffe-cdb3-40db-ccb5-7a2cde36fbda",
        "colab": {
          "base_uri": "https://localhost:8080/"
        }
      },
      "outputs": [
        {
          "output_type": "execute_result",
          "data": {
            "text/plain": [
              "False"
            ]
          },
          "metadata": {},
          "execution_count": 19
        }
      ],
      "source": [
        "st2.isdigit() "
      ]
    },
    {
      "cell_type": "code",
      "execution_count": 23,
      "metadata": {
        "id": "l0zgAiiRBaZO",
        "outputId": "aedf607a-383d-4eb4-82e5-5b8904b5fbc5",
        "colab": {
          "base_uri": "https://localhost:8080/"
        }
      },
      "outputs": [
        {
          "output_type": "execute_result",
          "data": {
            "text/plain": [
              "False"
            ]
          },
          "metadata": {},
          "execution_count": 23
        }
      ],
      "source": [
        "st1.isalpha() #입력한 문자열이 알파벳만 가지고 있는가?"
      ]
    },
    {
      "cell_type": "code",
      "execution_count": 22,
      "metadata": {
        "id": "ZjDWNJFBBaZO",
        "outputId": "7e928239-06cb-4302-d132-517fd3126694",
        "colab": {
          "base_uri": "https://localhost:8080/"
        }
      },
      "outputs": [
        {
          "output_type": "execute_result",
          "data": {
            "text/plain": [
              "True"
            ]
          },
          "metadata": {},
          "execution_count": 22
        }
      ],
      "source": [
        "st2.isalpha()"
      ]
    },
    {
      "cell_type": "code",
      "execution_count": 25,
      "metadata": {
        "id": "oTsP8CXJBaZP"
      },
      "outputs": [],
      "source": [
        "str = \"Supersprint\""
      ]
    },
    {
      "cell_type": "code",
      "execution_count": 26,
      "metadata": {
        "id": "8h5K5s8iBaZP",
        "outputId": "4bee068f-03f9-4c6f-ca62-de8815f441a0",
        "colab": {
          "base_uri": "https://localhost:8080/"
        }
      },
      "outputs": [
        {
          "output_type": "execute_result",
          "data": {
            "text/plain": [
              "True"
            ]
          },
          "metadata": {},
          "execution_count": 26
        }
      ],
      "source": [
        "str.startswith(\"Super\") #특정한 문자열로 시작하는가"
      ]
    },
    {
      "cell_type": "code",
      "execution_count": null,
      "metadata": {
        "id": "rKChWwBlBaZP"
      },
      "outputs": [],
      "source": [
        "str.endswith(\"int\") #특정한 문자열로 끝이나는가"
      ]
    },
    {
      "cell_type": "code",
      "execution_count": 28,
      "metadata": {
        "id": "ao9yiyvNBaZP",
        "outputId": "5fada5d0-813b-451e-db30-e84bdf8ad362",
        "colab": {
          "base_uri": "https://localhost:8080/"
        }
      },
      "outputs": [
        {
          "output_type": "stream",
          "name": "stdout",
          "text": [
            "스마트폰 번호 입력: 010-3715-8531\n",
            "정상적이지 않은 입력입니다.\n"
          ]
        }
      ],
      "source": [
        "def main():\n",
        "    pnum = input(\"스마트폰 번호 입력: \")\n",
        "    if pnum.isdigit() and pnum.startswith(\"010\"):\n",
        "        print(\"정상적인 입력입니다.\")\n",
        "    else:\n",
        "        print(\"정상적이지 않은 입력입니다.\")\n",
        "\n",
        "main()"
      ]
    },
    {
      "cell_type": "markdown",
      "metadata": {
        "id": "wQ6H24sxBaZP"
      },
      "source": [
        "### 07-9. `in, not in`"
      ]
    },
    {
      "cell_type": "code",
      "execution_count": 30,
      "metadata": {
        "id": "Ku_uj4j8BaZP",
        "outputId": "d5c6e421-530d-4161-cfad-f296961a6cf4",
        "colab": {
          "base_uri": "https://localhost:8080/"
        }
      },
      "outputs": [
        {
          "output_type": "stream",
          "name": "stdout",
          "text": [
            "있습니다.\n"
          ]
        }
      ],
      "source": [
        "s = \"Tomato spaghetti\"\n",
        "if s.find(\"ghe\") != -1:\n",
        "    print(\"있습니다.\")\n",
        "else:\n",
        "    print(\"없습니다.\")"
      ]
    },
    {
      "cell_type": "code",
      "execution_count": 31,
      "metadata": {
        "id": "Ub8tXMWQBaZP",
        "outputId": "a01f982d-d7c5-4f00-a7f7-3d9cfd5af92d",
        "colab": {
          "base_uri": "https://localhost:8080/"
        }
      },
      "outputs": [
        {
          "output_type": "stream",
          "name": "stdout",
          "text": [
            "있습니다.\n"
          ]
        }
      ],
      "source": [
        "if 'ghe' in s:\n",
        "    print(\"있습니다.\")\n",
        "else:\n",
        "    print(\"없습니다.\")"
      ]
    },
    {
      "cell_type": "code",
      "execution_count": 32,
      "metadata": {
        "id": "TA1eMsnCBaZQ",
        "outputId": "d0644a8f-790e-450b-862a-b81289df1da4",
        "colab": {
          "base_uri": "https://localhost:8080/"
        }
      },
      "outputs": [
        {
          "output_type": "execute_result",
          "data": {
            "text/plain": [
              "True"
            ]
          },
          "metadata": {},
          "execution_count": 32
        }
      ],
      "source": [
        "3 in [1, 2, 3] "
      ]
    },
    {
      "cell_type": "code",
      "execution_count": 33,
      "metadata": {
        "id": "Li7F_vsbBaZQ",
        "outputId": "ec8497d6-49d2-42ab-ebbc-072b53df7a00",
        "colab": {
          "base_uri": "https://localhost:8080/"
        }
      },
      "outputs": [
        {
          "output_type": "execute_result",
          "data": {
            "text/plain": [
              "False"
            ]
          },
          "metadata": {},
          "execution_count": 33
        }
      ],
      "source": [
        "4 in [1, 2, 3]"
      ]
    },
    {
      "cell_type": "code",
      "execution_count": 34,
      "metadata": {
        "id": "An3tyedZBaZQ",
        "outputId": "448a401d-7033-4df3-b9ba-93ccd37f21fb",
        "colab": {
          "base_uri": "https://localhost:8080/"
        }
      },
      "outputs": [
        {
          "output_type": "execute_result",
          "data": {
            "text/plain": [
              "False"
            ]
          },
          "metadata": {},
          "execution_count": 34
        }
      ],
      "source": [
        "3 not in [1, 2, 3]"
      ]
    },
    {
      "cell_type": "code",
      "execution_count": 35,
      "metadata": {
        "id": "Bs08sC1XBaZQ",
        "outputId": "8c0dec3e-ae79-49f1-cbc3-07a2accc487a",
        "colab": {
          "base_uri": "https://localhost:8080/"
        }
      },
      "outputs": [
        {
          "output_type": "execute_result",
          "data": {
            "text/plain": [
              "True"
            ]
          },
          "metadata": {},
          "execution_count": 35
        }
      ],
      "source": [
        "4 not in [1, 2, 3]"
      ]
    },
    {
      "cell_type": "code",
      "execution_count": 36,
      "metadata": {
        "id": "RrJBSw3kBaZQ",
        "outputId": "f44f6b61-6cde-45b5-e926-feb16ad300cb",
        "colab": {
          "base_uri": "https://localhost:8080/"
        }
      },
      "outputs": [
        {
          "output_type": "execute_result",
          "data": {
            "text/plain": [
              "False"
            ]
          },
          "metadata": {},
          "execution_count": 36
        }
      ],
      "source": [
        "\"he\" not in \"hello\""
      ]
    },
    {
      "cell_type": "code",
      "execution_count": 37,
      "metadata": {
        "id": "yDbQK-2yBaZR",
        "outputId": "0073a09b-4fae-4a9c-ce54-7052cf28a301",
        "colab": {
          "base_uri": "https://localhost:8080/"
        }
      },
      "outputs": [
        {
          "output_type": "execute_result",
          "data": {
            "text/plain": [
              "True"
            ]
          },
          "metadata": {},
          "execution_count": 37
        }
      ],
      "source": [
        "\"oo\" not in \"hello\""
      ]
    },
    {
      "cell_type": "markdown",
      "metadata": {
        "id": "D0f4mG6-BaZR"
      },
      "source": [
        "### 07-10.  수(Number)를 True와 False로 인식하는 방식"
      ]
    },
    {
      "cell_type": "code",
      "execution_count": 38,
      "metadata": {
        "id": "vGi1dMjHBaZR",
        "outputId": "9ddbf803-e289-4f7f-c064-f05123302aa7",
        "colab": {
          "base_uri": "https://localhost:8080/"
        }
      },
      "outputs": [
        {
          "output_type": "stream",
          "name": "stdout",
          "text": [
            "num은 0 아닙니다.\n"
          ]
        }
      ],
      "source": [
        "num = 1\n",
        "if num != 0:\n",
        "    print('num은 0 아닙니다.')"
      ]
    },
    {
      "cell_type": "code",
      "execution_count": 39,
      "metadata": {
        "id": "qkGMDGVVBaZR",
        "outputId": "a9fd23f7-ac0d-41b6-8411-4552cd243a6b",
        "colab": {
          "base_uri": "https://localhost:8080/"
        }
      },
      "outputs": [
        {
          "output_type": "stream",
          "name": "stdout",
          "text": [
            "num은 0이 아닙니다.\n"
          ]
        }
      ],
      "source": [
        "num = 1\n",
        "if num:\n",
        "    print('num은 0이 아닙니다.')"
      ]
    },
    {
      "cell_type": "code",
      "execution_count": 41,
      "metadata": {
        "id": "dGc-WR1ZBaZR",
        "outputId": "d0a38ae1-e21a-4a29-f7a9-6c47b24ceb96",
        "colab": {
          "base_uri": "https://localhost:8080/"
        }
      },
      "outputs": [
        {
          "output_type": "execute_result",
          "data": {
            "text/plain": [
              "True"
            ]
          },
          "metadata": {},
          "execution_count": 41
        }
      ],
      "source": [
        "bool(-1)"
      ]
    },
    {
      "cell_type": "code",
      "execution_count": 40,
      "metadata": {
        "id": "YQQR5P9EBaZR",
        "outputId": "5d679063-628a-46be-ab3c-b0b6ae967348",
        "colab": {
          "base_uri": "https://localhost:8080/"
        }
      },
      "outputs": [
        {
          "output_type": "execute_result",
          "data": {
            "text/plain": [
              "False"
            ]
          },
          "metadata": {},
          "execution_count": 40
        }
      ],
      "source": [
        "bool(0)"
      ]
    },
    {
      "cell_type": "code",
      "execution_count": 42,
      "metadata": {
        "id": "gzUEJ26hBaZS",
        "outputId": "f24daa8e-5c01-4bd2-c3e2-6ccf429103d8",
        "colab": {
          "base_uri": "https://localhost:8080/"
        }
      },
      "outputs": [
        {
          "output_type": "execute_result",
          "data": {
            "text/plain": [
              "True"
            ]
          },
          "metadata": {},
          "execution_count": 42
        }
      ],
      "source": [
        "bool('what')"
      ]
    },
    {
      "cell_type": "code",
      "execution_count": 43,
      "metadata": {
        "id": "sKpPHqdqBaZS",
        "outputId": "14c2133f-2710-4f21-a4d4-c5e1a40419d8",
        "colab": {
          "base_uri": "https://localhost:8080/"
        }
      },
      "outputs": [
        {
          "output_type": "execute_result",
          "data": {
            "text/plain": [
              "False"
            ]
          },
          "metadata": {},
          "execution_count": 43
        }
      ],
      "source": [
        "bool('')"
      ]
    },
    {
      "cell_type": "code",
      "execution_count": 44,
      "metadata": {
        "id": "0ehwf2IbBaZS",
        "outputId": "ea1ab987-7533-4b88-e12c-d762ace40e7e",
        "colab": {
          "base_uri": "https://localhost:8080/"
        }
      },
      "outputs": [
        {
          "output_type": "execute_result",
          "data": {
            "text/plain": [
              "True"
            ]
          },
          "metadata": {},
          "execution_count": 44
        }
      ],
      "source": [
        "bool([1, 2, 3])"
      ]
    },
    {
      "cell_type": "code",
      "execution_count": 45,
      "metadata": {
        "id": "WNZ_sQJVBaZS",
        "outputId": "c335d032-ebb6-4d7c-8666-e7d006b9343a",
        "colab": {
          "base_uri": "https://localhost:8080/"
        }
      },
      "outputs": [
        {
          "output_type": "execute_result",
          "data": {
            "text/plain": [
              "False"
            ]
          },
          "metadata": {},
          "execution_count": 45
        }
      ],
      "source": [
        "bool([])"
      ]
    }
  ],
  "metadata": {
    "celltoolbar": "Slideshow",
    "kernelspec": {
      "display_name": "Python 3 (ipykernel)",
      "language": "python",
      "name": "python3"
    },
    "language_info": {
      "codemirror_mode": {
        "name": "ipython",
        "version": 3
      },
      "file_extension": ".py",
      "mimetype": "text/x-python",
      "name": "python",
      "nbconvert_exporter": "python",
      "pygments_lexer": "ipython3",
      "version": "3.8.12"
    },
    "colab": {
      "name": "ch07.ipynb",
      "provenance": []
    }
  },
  "nbformat": 4,
  "nbformat_minor": 0
}